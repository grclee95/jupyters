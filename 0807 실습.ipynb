{
 "cells": [
  {
   "cell_type": "code",
   "execution_count": 5,
   "id": "73c814b7",
   "metadata": {},
   "outputs": [
    {
     "name": "stdout",
     "output_type": "stream",
     "text": [
      "10\n"
     ]
    }
   ],
   "source": [
    "a = 10\n",
    "print(a)"
   ]
  },
  {
   "cell_type": "code",
   "execution_count": 6,
   "id": "8cb377b7",
   "metadata": {},
   "outputs": [],
   "source": [
    "import numpy as np\n",
    "import datetime"
   ]
  },
  {
   "cell_type": "code",
   "execution_count": 7,
   "id": "245f9628",
   "metadata": {},
   "outputs": [
    {
     "name": "stdout",
     "output_type": "stream",
     "text": [
      "시작시간: 2023-08-07 15:22:44.055036\n",
      "종료 시간: 2023-08-07 15:22:44.140101\n"
     ]
    }
   ],
   "source": [
    "#list의 작업 시간\n",
    "li = range(1, 1000000)\n",
    "\n",
    "#현재 시간 저장\n",
    "s = datetime.datetime.now()\n",
    "print(\"시작시간:\", s)\n",
    "\n",
    "#모든 요소에 10을 곱해서 list를 수정\n",
    "for i in li:\n",
    "    i = i * 10\n",
    "\n",
    "#현재 시간 저장\n",
    "s = datetime.datetime.now()\n",
    "print(\"종료 시간:\", s)\n"
   ]
  },
  {
   "cell_type": "code",
   "execution_count": 8,
   "id": "b2a5615b",
   "metadata": {
    "scrolled": true
   },
   "outputs": [
    {
     "name": "stdout",
     "output_type": "stream",
     "text": [
      "시작 시간: 2023-08-07 15:26:31.239884\n",
      "종료 시간: 2023-08-07 15:26:31.258286\n"
     ]
    }
   ],
   "source": [
    "ar = np.arange(1, 1000000)\n",
    "s = datetime.datetime.now()\n",
    "print(\"시작 시간:\", s)\n",
    "ar = ar * 10\n",
    "s = datetime.datetime.now()\n",
    "print(\"종료 시간:\", s)"
   ]
  },
  {
   "cell_type": "code",
   "execution_count": 9,
   "id": "391f4d0a",
   "metadata": {
    "scrolled": true
   },
   "outputs": [
    {
     "name": "stdout",
     "output_type": "stream",
     "text": [
      "<class 'numpy.ndarray'>\n",
      "int64\n",
      "1\n",
      "(3,)\n"
     ]
    }
   ],
   "source": [
    "#배열 정보 확인\n",
    "ar = np.array([1, 2, 3,])\n",
    "print(type(ar)) #ar의 자료형\n",
    "print(ar.dtype) #ar에 저장된 요소의 자료형\n",
    "print(ar.ndim) #일차원 배열\n",
    "print(ar.shape) #3개의 행으로 구성"
   ]
  },
  {
   "cell_type": "code",
   "execution_count": 10,
   "id": "e9da6e31",
   "metadata": {},
   "outputs": [
    {
     "name": "stdout",
     "output_type": "stream",
     "text": [
      "2\n",
      "(2, 3)\n"
     ]
    }
   ],
   "source": [
    "ar = np.array([[1,2,3],[4,5,6]])\n",
    "print(ar.ndim) #2\n",
    "print(ar.shape) #2 행 3 열"
   ]
  },
  {
   "cell_type": "code",
   "execution_count": 11,
   "id": "631a4a05",
   "metadata": {},
   "outputs": [],
   "source": [
    "#이미지 데이터를 가져왔을 때 반드시 ndim과 shape를 확인"
   ]
  },
  {
   "cell_type": "code",
   "execution_count": 12,
   "id": "934a63e9",
   "metadata": {},
   "outputs": [
    {
     "name": "stdout",
     "output_type": "stream",
     "text": [
      "[ 1  3  5  7  9 11 13 15 17 19 21 23 25 27 29 31 33 35 37 39 41 43 45 47\n",
      " 49 51 53 55 57 59 61 63 65 67 69 71 73 75 77 79 81 83 85 87 89 91 93 95\n",
      " 97 99]\n"
     ]
    }
   ],
   "source": [
    "ar = np.arange(1, 100, 2)\n",
    "print(ar)"
   ]
  },
  {
   "cell_type": "code",
   "execution_count": 13,
   "id": "9abe5961",
   "metadata": {},
   "outputs": [
    {
     "name": "stdout",
     "output_type": "stream",
     "text": [
      "[  1.  12.  23.  34.  45.  56.  67.  78.  89. 100.]\n"
     ]
    }
   ],
   "source": [
    "ar = np.linspace(1, 100, num = 10)\n",
    "print(ar)"
   ]
  },
  {
   "cell_type": "code",
   "execution_count": 15,
   "id": "ddd27b5d",
   "metadata": {},
   "outputs": [
    {
     "name": "stdout",
     "output_type": "stream",
     "text": [
      "[[1. 0. 0.]\n",
      " [0. 1. 0.]\n",
      " [0. 0. 1.]]\n",
      "[[0. 1. 0.]\n",
      " [0. 0. 1.]\n",
      " [0. 0. 0.]]\n",
      "[[0. 0. 0.]\n",
      " [1. 0. 0.]\n",
      " [0. 1. 0.]]\n"
     ]
    }
   ],
   "source": [
    "#eye - 대각선 방향으로 1을 채운 행렬\n",
    "ar = np.eye(3) #3X3 행렬을 생성하고 대각선 방향으로 1을 채움\n",
    "print(ar)\n",
    "ar = np.eye(3, k=1) #3X3 행렬을 생성하고 대각선 방향으로 1을 채우는 데 기본에서 위로\n",
    "print(ar)\n",
    "ar = np.eye(3, k=-1) #3X3 행렬을 생성하고 대각선 방향으로 1을 채우는 데 기본에서 아래로\n",
    "print(ar)"
   ]
  },
  {
   "cell_type": "code",
   "execution_count": 18,
   "id": "68276631",
   "metadata": {},
   "outputs": [
    {
     "name": "stdout",
     "output_type": "stream",
     "text": [
      "[[1 2 3]\n",
      " [4 5 6]\n",
      " [7 8 9]]\n",
      "[1 5 9]\n",
      "[4 8]\n"
     ]
    }
   ],
   "source": [
    "ar = np.array([[1, 2, 3], [4, 5, 6], [7, 8, 9]])\n",
    "print(ar)\n",
    "\n",
    "br = np.diag(ar)\n",
    "print(br)\n",
    "\n",
    "cr = np.diag(ar, k=-1)\n",
    "print(cr)"
   ]
  },
  {
   "cell_type": "code",
   "execution_count": 22,
   "id": "01f76278",
   "metadata": {},
   "outputs": [
    {
     "name": "stdout",
     "output_type": "stream",
     "text": [
      "['1' '2' '3']\n",
      "[1 2 3]\n",
      "['1' '2' '3']\n",
      "[1 2 3]\n"
     ]
    }
   ],
   "source": [
    "ar = np.array([1, 2, '3']) #문자열로 배열이 생성\n",
    "print(ar)\n",
    "#자료형을 지정해서 생성\n",
    "ar = np.array([1, 2, '3'], dtype=np.int32) #정수로 배열이 생성 - 자료형 지정\n",
    "print(ar)\n",
    "ar = np.array([1, 2, '3']) #문자열로 배열이 생성\n",
    "print(ar)\n",
    "\n",
    "br = ar.astype(np.int32) #기존 배열의 자료형을 변경해서 생성\n",
    "print(br)"
   ]
  },
  {
   "cell_type": "code",
   "execution_count": 27,
   "id": "abb88b40",
   "metadata": {},
   "outputs": [
    {
     "name": "stdout",
     "output_type": "stream",
     "text": [
      "[[1 2 3]\n",
      " [4 5 6]\n",
      " [7 8 9]]\n",
      "[1 2 3 4 5 6 7 8 9]\n",
      "[[101   2   3]\n",
      " [  4   5   6]\n",
      " [  7   8   9]]\n",
      "[101   2   3   4   5   6   7   8   9]\n",
      "[[101   2   3]\n",
      " [  4   5   6]\n",
      " [  7   8   9]]\n"
     ]
    }
   ],
   "source": [
    "matrix = np.array([[1,2,3], [4,5,6], [7,8,9]])\n",
    "print(matrix) #3 x 3 행렬\n",
    "\n",
    "ar = matrix.reshape(-1) #1차원으로 변환: 접근 방법을 변환한 것이라서 이전과 동일한 데이터\n",
    "print(ar)\n",
    "ar[0] = 101\n",
    "print(matrix)\n",
    "\n",
    "br = matrix.flatten() #복제를 해서 1차원으로 변경 - 원본과 다른 데이터를 생성\n",
    "print(br)\n",
    "br[0] = 201\n",
    "print(matrix)"
   ]
  },
  {
   "cell_type": "code",
   "execution_count": 42,
   "id": "699abf4e",
   "metadata": {},
   "outputs": [
    {
     "name": "stdout",
     "output_type": "stream",
     "text": [
      "[[1 2 3]\n",
      " [4 5 6]\n",
      " [7 8 9]]\n",
      "[1 2 3]\n",
      "[1 2 3]\n",
      "[100   2   3]\n",
      "[100   2   3]\n",
      "[[100   2   3]\n",
      " [  4   5   6]\n",
      " [  7   8   9]]\n",
      "[[100   2   3]]\n",
      "[100   2   3]\n",
      "[[1004    2    3]]\n",
      "[100   2   3]\n",
      "[[100   2   3]\n",
      " [  4   5   6]\n",
      " [  7   8   9]]\n"
     ]
    }
   ],
   "source": [
    "matrix = np.array([[1,2,3], [4,5,6], [7,8,9]])\n",
    "print(matrix) #전체 출력\n",
    "\n",
    "#0번 행을 인덱싱 - 참조를 복사\n",
    "ar = matrix[0]\n",
    "br = matrix[0, ]\n",
    "print(ar) #[1, 2, 3]\n",
    "print(br)\n",
    "\n",
    "#ar의 0번째 요소를 100으로 수정\n",
    "ar[0] = 100\n",
    "print(ar)\n",
    "print(br)\n",
    "print(matrix)\n",
    "\n",
    "#list를 이용하는 인덱싱을 팬시 인덱싱이라고 합니다.\n",
    "cr = matrix[[0]]\n",
    "#범위를 이용하는 형태를 슬라이싱이라고 합니다.\n",
    "dr = matrix[0][:]\n",
    "#팬시 인덱싱과 슬라이싱은 복제를 합니다.\n",
    "#복제된 데이터를 수정해도 원본에 영향을 주지 않습니다.\n",
    "print(cr)\n",
    "print(dr)\n",
    "cr[0, 0] = 1004\n",
    "print(cr) #[[1004, 2, 3]]\n",
    "print(dr) #[100, 2, 3]\n",
    "print(matrix) #[[100, 2, 3], [4, 5, 6], [7, 8, 9]]"
   ]
  },
  {
   "cell_type": "code",
   "execution_count": 44,
   "id": "daf8ae8f",
   "metadata": {},
   "outputs": [
    {
     "name": "stdout",
     "output_type": "stream",
     "text": [
      "[1 2 3 4 6]\n"
     ]
    }
   ],
   "source": [
    "ar = np.array([10, 2, 30, 5, 22, 37])\n",
    "br = np.array([1, 2, 3, 4, 5, 6])\n",
    "\n",
    "print(br[(ar >= 30) | (ar <= 10)])"
   ]
  },
  {
   "cell_type": "code",
   "execution_count": null,
   "id": "2a1f751c",
   "metadata": {},
   "outputs": [],
   "source": []
  }
 ],
 "metadata": {
  "kernelspec": {
   "display_name": "Python 3 (ipykernel)",
   "language": "python",
   "name": "python3"
  },
  "language_info": {
   "codemirror_mode": {
    "name": "ipython",
    "version": 3
   },
   "file_extension": ".py",
   "mimetype": "text/x-python",
   "name": "python",
   "nbconvert_exporter": "python",
   "pygments_lexer": "ipython3",
   "version": "3.11.3"
  }
 },
 "nbformat": 4,
 "nbformat_minor": 5
}

{
 "cells": [
  {
   "cell_type": "code",
   "execution_count": 1,
   "id": "c1a4ef13",
   "metadata": {},
   "outputs": [],
   "source": [
    "import numpy as np\n",
    "import pandas as pd"
   ]
  },
  {
   "cell_type": "code",
   "execution_count": 4,
   "id": "16576ebc",
   "metadata": {},
   "outputs": [
    {
     "name": "stdout",
     "output_type": "stream",
     "text": [
      "0    10\n",
      "1    20\n",
      "2    30\n",
      "3    40\n",
      "dtype: int64\n",
      "one      10\n",
      "two      20\n",
      "three    30\n",
      "four     40\n",
      "dtype: int64\n",
      "태연       소녀시대\n",
      "수지     Miss A\n",
      "카리나     aespa\n",
      "설현        AOA\n",
      "dtype: object\n"
     ]
    }
   ],
   "source": [
    "series1 = pd.Series([10, 20, 30, 40]) #인덱스 없이 0, 1, 2, 3 으로 접근하도록 생성\n",
    "#인덱스와 함께 생성\n",
    "series2 = pd.Series([10, 20, 30, 40], index=[\"one\", \"two\", \"three\", \"four\"])\n",
    "print(series1)\n",
    "print(series2)\n",
    "#dict를 이용해서 key는 index가 value는 value가 되도록 설정\n",
    "series3 = pd.Series({\"태연\":\"소녀시대\", \"수지\":\"Miss A\", \"카리나\":\"aespa\", \"설현\":\"AOA\"})\n",
    "print(series3)"
   ]
  },
  {
   "cell_type": "code",
   "execution_count": 7,
   "id": "d9dc5ef3",
   "metadata": {},
   "outputs": [
    {
     "name": "stdout",
     "output_type": "stream",
     "text": [
      "소녀시대\n",
      "소녀시대\n",
      "태연      소녀시대\n",
      "수지    Miss A\n",
      "dtype: object\n",
      "태연       소녀시대\n",
      "수지     Miss A\n",
      "카리나     aespa\n",
      "dtype: object\n"
     ]
    }
   ],
   "source": [
    "#인덱싱\n",
    "print(series3[0]) #일련번호를 가지고 접근\n",
    "print(series3[\"태연\"]) #인덱스를 가지고 접근\n",
    "print(series3[0:2]) #일련번호는 종료 위치가 포함되지 않음\n",
    "print(series3[\"태연\":\"카리나\"]) #인덱스는 종료 위치가 포함됩니다."
   ]
  },
  {
   "cell_type": "code",
   "execution_count": 12,
   "id": "8d04083f",
   "metadata": {},
   "outputs": [
    {
     "name": "stdout",
     "output_type": "stream",
     "text": [
      "[10 20 30 40]\n",
      "0    110\n",
      "1    120\n",
      "2    130\n",
      "3    140\n",
      "dtype: int64\n",
      "100\n",
      "민지       NaN\n",
      "설현       NaN\n",
      "수지     197.0\n",
      "카리나    165.0\n",
      "태연       NaN\n",
      "dtype: float64\n"
     ]
    }
   ],
   "source": [
    "print(series1.values) #값들만 추출\n",
    "print(series1 + 100) #연산은 ndarray와 동일하게 수행되는데 values 속성의 멤버를 가지고 연산\n",
    "print(np.sum(series1))\n",
    "\n",
    "s1 = pd.Series(\n",
    "{\"태연\":91, \"수지\":99, \"카리나\":88, \"설현\":73})\n",
    "s2 = pd.Series(\n",
    "{\"태연\":np.nan, \"카리나\":77, \"수지\":98, \"민지\":59})\n",
    "print(s1+s2)"
   ]
  },
  {
   "cell_type": "code",
   "execution_count": 14,
   "id": "2b2ab9b5",
   "metadata": {},
   "outputs": [
    {
     "name": "stdout",
     "output_type": "stream",
     "text": [
      "   code name  price\n",
      "0     1   수박  30000\n",
      "1     2   참외   5000\n",
      "2     3   딸기  10000\n",
      "3     4   키위  20000\n"
     ]
    }
   ],
   "source": [
    "#DataFrame을 만들기 위한 딕셔너리 생성\n",
    "items = {\n",
    "    'code':[1, 2, 3, 4],\n",
    "    'name':['수박', '참외', '딸기', '키위'],\n",
    "    'price':[30000, 5000, 10000, 20000]\n",
    "}\n",
    "\n",
    "\n",
    "df = pd.DataFrame(items)\n",
    "print(df)"
   ]
  },
  {
   "cell_type": "code",
   "execution_count": 18,
   "id": "d9f0b647",
   "metadata": {},
   "outputs": [
    {
     "name": "stdout",
     "output_type": "stream",
     "text": [
      "RangeIndex(start=1, stop=5, step=1)\n",
      "Index(['코드', '이름', '가격'], dtype='object')\n",
      "   코드  이름     가격\n",
      "1   1  수박  30000\n",
      "2   2  참외   5000\n",
      "3   3  딸기  10000\n",
      "4   4  키위  20000\n"
     ]
    }
   ],
   "source": [
    "print(df.index)\n",
    "print(df.columns)\n",
    "df.index = range(1, 5)\n",
    "df.columns = ['코드', '이름', '가격']\n",
    "print(df)"
   ]
  },
  {
   "cell_type": "code",
   "execution_count": 22,
   "id": "1b83eaab",
   "metadata": {},
   "outputs": [
    {
     "name": "stdout",
     "output_type": "stream",
     "text": [
      "   코드  이름     가격\n",
      "1   1  수박  30000\n",
      "2   2  참외   5000\n",
      "   코드  이름     가격\n",
      "3   3  딸기  10000\n",
      "4   4  키위  20000\n",
      "<class 'numpy.ndarray'>\n",
      "<class 'pandas.core.frame.DataFrame'>\n",
      "RangeIndex: 4 entries, 1 to 4\n",
      "Data columns (total 3 columns):\n",
      " #   Column  Non-Null Count  Dtype \n",
      "---  ------  --------------  ----- \n",
      " 0   코드      4 non-null      int64 \n",
      " 1   이름      4 non-null      object\n",
      " 2   가격      4 non-null      int64 \n",
      "dtypes: int64(2), object(1)\n",
      "memory usage: 228.0+ bytes\n"
     ]
    }
   ],
   "source": [
    "#head나 tail 함수는 데이터가 제대로 불려져 왔는지 확인할 때 이용\n",
    "print(df.head(2))\n",
    "print(df.tail(2))\n",
    "#이 데이터를 갖고 머신러닝을 하고자 하면 머신러닝은 numpy의 ndarray 로만 가능\n",
    "print(type(df.values))\n",
    "#데이터 분석을 하기전에 데이터를 가져왔으면 데이터에 대한 정보를 확인\n",
    "df.info()"
   ]
  },
  {
   "cell_type": "code",
   "execution_count": null,
   "id": "66d3c5b1",
   "metadata": {},
   "outputs": [],
   "source": []
  }
 ],
 "metadata": {
  "kernelspec": {
   "display_name": "Python 3 (ipykernel)",
   "language": "python",
   "name": "python3"
  },
  "language_info": {
   "codemirror_mode": {
    "name": "ipython",
    "version": 3
   },
   "file_extension": ".py",
   "mimetype": "text/x-python",
   "name": "python",
   "nbconvert_exporter": "python",
   "pygments_lexer": "ipython3",
   "version": "3.11.3"
  }
 },
 "nbformat": 4,
 "nbformat_minor": 5
}

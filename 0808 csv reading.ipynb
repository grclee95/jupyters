{
 "cells": [
  {
   "cell_type": "code",
   "execution_count": 2,
   "id": "d9fa2ddf",
   "metadata": {},
   "outputs": [
    {
     "name": "stdout",
     "output_type": "stream",
     "text": [
      "/Users/m1\n"
     ]
    }
   ],
   "source": [
    "import numpy as np\n",
    "import pandas as pd\n",
    "\n",
    "#현재 작업 디렉토리 확인\n",
    "import os\n",
    "print(os.getcwd())"
   ]
  },
  {
   "cell_type": "code",
   "execution_count": 8,
   "id": "fee0e0aa",
   "metadata": {},
   "outputs": [
    {
     "name": "stdout",
     "output_type": "stream",
     "text": [
      "      manufacture            name  price\n",
      "code                                    \n",
      "1           korea           apple   1500\n",
      "2           korea      watermelon  15000\n",
      "3           korea  oriental melon   1000\n",
      "4     philippines          banana    500\n",
      "5           korea           lemon   1500\n",
      "6           korea           mango    700\n"
     ]
    }
   ],
   "source": [
    "items = pd.read_csv('./data/item.csv', index_col='code')\n",
    "print(items)"
   ]
  },
  {
   "cell_type": "code",
   "execution_count": 12,
   "id": "23a6c61e",
   "metadata": {},
   "outputs": [
    {
     "name": "stdout",
     "output_type": "stream",
     "text": [
      "      제품명  개수     가격\n",
      "0   apple  10   1500\n",
      "1  banana   5  15000\n",
      "2   melon   7   1000\n",
      "3    kiwi  20    500\n",
      "4   mango  30   1500\n",
      "5  orange   4    700\n"
     ]
    }
   ],
   "source": [
    "#good.csv는 첫 번째 행도 일반 데이터이므로\n",
    "#첫번째 행이 헤더가 아니라고 설정하고 names를 이용해서 헤더 이름을 설정\n",
    "goods = pd.read_csv('./data/good.csv', header=None, names=['제품명', '개수', '가격'])\n",
    "print(goods)"
   ]
  },
  {
   "cell_type": "code",
   "execution_count": 14,
   "id": "bfcdd605",
   "metadata": {},
   "outputs": [
    {
     "name": "stdout",
     "output_type": "stream",
     "text": [
      "<class 'pandas.core.frame.DataFrame'>\n",
      "        0   1      2\n",
      "0   apple  10   1500\n",
      "1  banana   5  15000\n",
      "2   melon   7   1000\n",
      "\n",
      "<class 'pandas.core.frame.DataFrame'>\n",
      "        0   1     2\n",
      "3    kiwi  20   500\n",
      "4   mango  30  1500\n",
      "5  orange   4   700\n",
      "\n"
     ]
    }
   ],
   "source": [
    "#3개씩 읽어오도록 설정\n",
    "goods = pd.read_csv('./data/good.csv', header=None, chunksize=3)\n",
    "for piece in goods:\n",
    "    print(type(piece))\n",
    "    print(piece)\n",
    "    print()"
   ]
  },
  {
   "cell_type": "code",
   "execution_count": 15,
   "id": "450fa4f4",
   "metadata": {},
   "outputs": [
    {
     "name": "stdout",
     "output_type": "stream",
     "text": [
      "          country continent  year  lifeExp       pop   gdpPercap\n",
      "0     Afghanistan      Asia  1952   28.801   8425333  779.445314\n",
      "1     Afghanistan      Asia  1957   30.332   9240934  820.853030\n",
      "2     Afghanistan      Asia  1962   31.997  10267083  853.100710\n",
      "3     Afghanistan      Asia  1967   34.020  11537966  836.197138\n",
      "4     Afghanistan      Asia  1972   36.088  13079460  739.981106\n",
      "...           ...       ...   ...      ...       ...         ...\n",
      "1699     Zimbabwe    Africa  1987   62.351   9216418  706.157306\n",
      "1700     Zimbabwe    Africa  1992   60.377  10704340  693.420786\n",
      "1701     Zimbabwe    Africa  1997   46.809  11404948  792.449960\n",
      "1702     Zimbabwe    Africa  2002   39.989  11926563  672.038623\n",
      "1703     Zimbabwe    Africa  2007   43.487  12311143  469.709298\n",
      "\n",
      "[1704 rows x 6 columns]\n"
     ]
    }
   ],
   "source": [
    "goods = pd.read_csv('./data/gapminder.tsv', sep='\\t')\n",
    "print(goods)"
   ]
  }
 ],
 "metadata": {
  "kernelspec": {
   "display_name": "Python 3 (ipykernel)",
   "language": "python",
   "name": "python3"
  },
  "language_info": {
   "codemirror_mode": {
    "name": "ipython",
    "version": 3
   },
   "file_extension": ".py",
   "mimetype": "text/x-python",
   "name": "python",
   "nbconvert_exporter": "python",
   "pygments_lexer": "ipython3",
   "version": "3.11.3"
  }
 },
 "nbformat": 4,
 "nbformat_minor": 5
}

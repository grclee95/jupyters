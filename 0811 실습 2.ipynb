{
 "cells": [
  {
   "cell_type": "code",
   "execution_count": 3,
   "id": "6911da8a",
   "metadata": {},
   "outputs": [
    {
     "name": "stdout",
     "output_type": "stream",
     "text": [
      "0    False\n",
      "1    False\n",
      "2    False\n",
      "3    False\n",
      "dtype: bool\n"
     ]
    }
   ],
   "source": [
    "df = pd.DataFrame([['안녕하세요', '니하오', '헬로우', '키아 오라', '안녕하세요'],\n",
    "                ['한국', '중국', '미국', '뉴질랜드', '한국']])\n",
    "df = df.T #열과 행 전치\n",
    "#print(df)\n",
    "#print(df.duplicated()) #중복 확인\n",
    "df.drop_duplicates(inplace=True)\n",
    "print(df.duplicated()) #중복 확인"
   ]
  },
  {
   "cell_type": "code",
   "execution_count": 7,
   "id": "4f65b5b8",
   "metadata": {},
   "outputs": [
    {
     "name": "stdout",
     "output_type": "stream",
     "text": [
      "age      79.5800\n",
      "fare    512.3292\n",
      "dtype: float64\n"
     ]
    }
   ],
   "source": [
    "def f(data):\n",
    "\treturn data + '...'\n",
    "\n",
    "# #Series에 함수 적용\n",
    "# print(df[0].apply(lambda data: data + '...')) #Series는 셀 단위 적용\n",
    "# print(df.apply(f)) #DataFrame은 행이나 열 단위 적용인데 기본은 열 단위 적용\n",
    "# print(df.applymap(f)) #applymap은 셀 단위 적용\n",
    "\n",
    "import seaborn as sns\n",
    "titanic = sns.load_dataset('titanic')\n",
    "#print(titanic.head())\n",
    "\n",
    "df = titanic[['age', 'fare']]\n",
    "#print(df.head())\n",
    "\n",
    "def min_max(data):\n",
    "\treturn data.max() - data.min()\n",
    "\n",
    "#열 단위로 함수 적용\n",
    "result = df.apply(min_max, axis=0)\n",
    "print(result)"
   ]
  },
  {
   "cell_type": "code",
   "execution_count": 18,
   "id": "c2fefc0b",
   "metadata": {},
   "outputs": [
    {
     "name": "stdout",
     "output_type": "stream",
     "text": [
      "177\n"
     ]
    }
   ],
   "source": [
    "# print(titanic.head())\n",
    "df = titanic[['age', 'fare']]\n",
    "# print(type(df))\n",
    "\n",
    "#하나의 데이터를 가지고 null 여부를 판단해주는 함수를 대입\n",
    "#셀 단위로 적용해서 DataFrame을 리턴\n",
    "# print(df.pipe(lambda x: x.isnull()))\n",
    "\n",
    "def missing_value(x):\n",
    "\treturn x.isnull()\n",
    "\n",
    "#집계를 하는 함수를 대입하면 열 단위로 대입해서 집계를 수행한 후 Series를 리턴\n",
    "# print(df.pipe(lambda x: missing_value(x).sum()))\n",
    "\n",
    "def missing_count(x):\n",
    "\treturn missing_value(x).sum()\n",
    "\n",
    "#Series를 리턴하는 함수를 대입하면 하나의 값을 리턴\n",
    "print(df.pipe(lambda x: missing_count(x).sum()))"
   ]
  },
  {
   "cell_type": "code",
   "execution_count": 24,
   "id": "ec7778e8",
   "metadata": {},
   "outputs": [
    {
     "name": "stdout",
     "output_type": "stream",
     "text": [
      "          연월일   당일종가  전일종가     시가     고가     저가     거래량     연   월   일\n",
      "0  2018-07-02  10100   600  10850  10900  10000  137977  2018  07  02\n",
      "1  2018-06-29  10700   300  10550  10900   9990  170253  2018  06  29\n",
      "2  2018-06-28  10400   500  10900  10950  10150  155769  2018  06  28\n",
      "3  2018-06-27  10900   100  10800  11050  10500  133548  2018  06  27\n",
      "4  2018-06-26  10800   350  10900  11000  10700   63039  2018  06  26\n"
     ]
    }
   ],
   "source": [
    "df = pd.read_excel('./data/주가데이터.xlsx')\n",
    "\n",
    "#자료형이 datatime64 라서 split을 사용할 수 없음\n",
    "# dates = df['연월일'].str.split('-')\n",
    "\n",
    "#데이터 타입 변경\n",
    "#astype을 호출해서 변경\n",
    "#map 함수에 형을 변경할 수 있는 함수를 대입\n",
    "df['연월일'] = df['연월일'].astype('str')\n",
    "dates = df['연월일'].str.split('-')\n",
    "# print(dates.head())\n",
    "\n",
    "df['연'] = dates.str.get(0)\n",
    "df['월'] = dates.str.get(1)\n",
    "df['일'] = dates.str.get(2)\n",
    "\n",
    "print(df.head())"
   ]
  },
  {
   "cell_type": "code",
   "execution_count": 34,
   "id": "a5192f5d",
   "metadata": {},
   "outputs": [
    {
     "name": "stdout",
     "output_type": "stream",
     "text": [
      "    a   b   c\n",
      "1  a0  b0  c0\n",
      "2  a1  b1  c1\n",
      "3  a2  b2  c2\n",
      "4  a3  b3  c3\n",
      "    a   b   d\n",
      "2  a2  b2  c2\n",
      "3  a3  b3  c3\n",
      "4  a4  b4  c4\n",
      "5  a5  b5  c5\n",
      "    a   b   c   a   b   d\n",
      "2  a1  b1  c1  a2  b2  c2\n",
      "3  a2  b2  c2  a3  b3  c3\n",
      "4  a3  b3  c3  a4  b4  c4\n"
     ]
    }
   ],
   "source": [
    "df1 = pd.DataFrame({\n",
    "\t'a':['a0', 'a1', 'a2', 'a3'],\n",
    "\t'b':['b0', 'b1', 'b2', 'b3'],\n",
    "\t'c':['c0', 'c1', 'c2', 'c3'],   \n",
    "}, index = [1, 2, 3, 4])\n",
    "\n",
    "df2 = pd.DataFrame({\n",
    "\t'a':['a2', 'a3', 'a4', 'a5'],\n",
    "\t'b':['b2', 'b3', 'b4', 'b5'],\n",
    "\t'd':['c2', 'c3', 'c4', 'c5'],   \n",
    "}, index = [2, 3, 4, 5])\n",
    "\n",
    "print(df1)\n",
    "print(df2)\n",
    "\n",
    "# print(pd.concat([df1, df2]))\n",
    "\n",
    "# print(pd.concat([df1, df2], axis=1)) #동일한 인덱스끼리 옆으로 결합\n",
    "#한쪽에만 존재하는 데이터도 결합 - Outer Join\n",
    "\n",
    "\n",
    "print(pd.concat([df1, df2], axis=1, join='inner')) #동일한 인덱스끼리 옆으로 결합\n",
    "#양쪽 모두에 존재하는 데이터만 결합 - Inner Join\n"
   ]
  },
  {
   "cell_type": "code",
   "execution_count": 35,
   "id": "b4f20098",
   "metadata": {},
   "outputs": [
    {
     "name": "stdout",
     "output_type": "stream",
     "text": [
      "    a   b    c    d\n",
      "1  a0  b0   c0  NaN\n",
      "2  a1  b1   c1  NaN\n",
      "3  a2  b2   c2  NaN\n",
      "4  a3  b3   c3  NaN\n",
      "2  a2  b2  NaN   c2\n",
      "3  a3  b3  NaN   c3\n",
      "4  a4  b4  NaN   c4\n",
      "5  a5  b5  NaN   c5\n"
     ]
    },
    {
     "name": "stderr",
     "output_type": "stream",
     "text": [
      "/var/folders/bq/22f7j5dn6x5dcpn8t77q8t4h0000gn/T/ipykernel_16102/1388991793.py:1: FutureWarning: The frame.append method is deprecated and will be removed from pandas in a future version. Use pandas.concat instead.\n",
      "  print(df1.append(df2))\n"
     ]
    }
   ],
   "source": [
    "print(df1.append(df2))"
   ]
  },
  {
   "cell_type": "code",
   "execution_count": 38,
   "id": "f712ca32",
   "metadata": {},
   "outputs": [
    {
     "name": "stdout",
     "output_type": "stream",
     "text": [
      "[0.  2.5 2.  3.5 4.5 5. ]\n",
      "0    0.0\n",
      "1    2.5\n",
      "2    2.0\n",
      "3    3.5\n",
      "4    4.5\n",
      "5    5.0\n",
      "dtype: float64\n",
      "0    0.0\n",
      "1    2.5\n",
      "2    2.0\n",
      "3    3.5\n",
      "4    4.5\n",
      "5    5.0\n",
      "dtype: float64\n"
     ]
    }
   ],
   "source": [
    "a = pd.Series([np.nan, 2.5, np.nan, 3.5, 4.5, np.nan])\n",
    "b = pd.Series(np.arange(len(a), dtype=np.float64))\n",
    "# print(a)\n",
    "# print(b)\n",
    "\n",
    "#a의 값이 NaN인 경우는 b의 값으로 채우기\n",
    "r = np.where(pd.isnull(a), b, a)\n",
    "\n",
    "#numpy의 1차원 배열은 출력할 때 행 방향으로 출력합니다.\n",
    "#조건이 True인 경우는 데이터1 False인 경우는 데이터2\n",
    "print(r)\n",
    "print(pd.Series(r))\n",
    "print(a.combine_first(b))"
   ]
  },
  {
   "cell_type": "code",
   "execution_count": 46,
   "id": "ee0cf730",
   "metadata": {},
   "outputs": [
    {
     "name": "stdout",
     "output_type": "stream",
     "text": [
      "        id stock_name          value     price       name           eps  \\\n",
      "0   128940       한미약품   59385.666667  421000.0        NaN           NaN   \n",
      "1   130960     CJ E&M   58540.666667   98900.0     CJ E&M   6301.333333   \n",
      "2   138250      엔에스쇼핑   14558.666667   13200.0        NaN           NaN   \n",
      "3   139480        이마트  239230.833333  254500.0        이마트  18268.166667   \n",
      "4   142280     녹십자엠에스     468.833333   10200.0        NaN           NaN   \n",
      "5   145990        삼양사   82750.000000   82000.0        삼양사   5741.000000   \n",
      "6   185750        종근당   40293.666667  100500.0        종근당   3990.333333   \n",
      "7   192400      쿠쿠홀딩스  179204.666667  177500.0        NaN           NaN   \n",
      "8   199800         툴젠   -2514.333333  115400.0        NaN           NaN   \n",
      "9   204210     모두투어리츠    3093.333333    3475.0     모두투어리츠     85.166667   \n",
      "10  136480        NaN            NaN       NaN         하림    274.166667   \n",
      "11  138040        NaN            NaN       NaN    메리츠금융지주   2122.333333   \n",
      "12  161390        NaN            NaN       NaN      한국타이어   5648.500000   \n",
      "13  181710        NaN            NaN       NaN  NHN엔터테인먼트   2110.166667   \n",
      "14  207940        NaN            NaN       NaN   삼성바이오로직스   4644.166667   \n",
      "\n",
      "         bps        per       pbr  \n",
      "0        NaN        NaN       NaN  \n",
      "1    54068.0  15.695091  1.829178  \n",
      "2        NaN        NaN       NaN  \n",
      "3   295780.0  13.931338  0.860437  \n",
      "4        NaN        NaN       NaN  \n",
      "5   108090.0  14.283226  0.758627  \n",
      "6    40684.0  25.185866  2.470259  \n",
      "7        NaN        NaN       NaN  \n",
      "8        NaN        NaN       NaN  \n",
      "9     5335.0  40.802348  0.651359  \n",
      "10    3551.0  11.489362  0.887074  \n",
      "11   14894.0   6.313806  0.899691  \n",
      "12   51341.0   7.453306  0.820007  \n",
      "13   78434.0  30.755864  0.827447  \n",
      "14   60099.0  89.790059  6.938551  \n"
     ]
    }
   ],
   "source": [
    "price = pd.read_excel('./data/stock price.xlsx')\n",
    "valuation = pd.read_excel('./data/stock valuation.xlsx')\n",
    "# print(price)\n",
    "# print(valuation)\n",
    "# inner_join = pd.merge(price, valuation)\n",
    "# print(inner_join)\n",
    "\n",
    "outer_join = pd.merge(price, valuation, how='outer')\n",
    "print(outer_join)"
   ]
  },
  {
   "cell_type": "code",
   "execution_count": 49,
   "id": "ec8fae9d",
   "metadata": {},
   "outputs": [
    {
     "name": "stdout",
     "output_type": "stream",
     "text": [
      "       stock_name          value   price    name           eps       bps  \\\n",
      "id                                                                         \n",
      "128940       한미약품   59385.666667  421000     NaN           NaN       NaN   \n",
      "130960     CJ E&M   58540.666667   98900  CJ E&M   6301.333333   54068.0   \n",
      "138250      엔에스쇼핑   14558.666667   13200     NaN           NaN       NaN   \n",
      "139480        이마트  239230.833333  254500     이마트  18268.166667  295780.0   \n",
      "142280     녹십자엠에스     468.833333   10200     NaN           NaN       NaN   \n",
      "145990        삼양사   82750.000000   82000     삼양사   5741.000000  108090.0   \n",
      "185750        종근당   40293.666667  100500     종근당   3990.333333   40684.0   \n",
      "192400      쿠쿠홀딩스  179204.666667  177500     NaN           NaN       NaN   \n",
      "199800         툴젠   -2514.333333  115400     NaN           NaN       NaN   \n",
      "204210     모두투어리츠    3093.333333    3475  모두투어리츠     85.166667    5335.0   \n",
      "\n",
      "              per       pbr  \n",
      "id                           \n",
      "128940        NaN       NaN  \n",
      "130960  15.695091  1.829178  \n",
      "138250        NaN       NaN  \n",
      "139480  13.931338  0.860437  \n",
      "142280        NaN       NaN  \n",
      "145990  14.283226  0.758627  \n",
      "185750  25.185866  2.470259  \n",
      "192400        NaN       NaN  \n",
      "199800        NaN       NaN  \n",
      "204210  40.802348  0.651359  \n"
     ]
    }
   ],
   "source": [
    "price = pd.read_excel('./data/stock price.xlsx', index_col=\"id\")\n",
    "valuation = pd.read_excel('./data/stock valuation.xlsx', index_col=\"id\")\n",
    "\n",
    "# print(price.join(valuation)) #인스턴스로 메서드 호출: bound 호출\n",
    "print(pd.DataFrame.join(price, valuation)) #클래스로 인스턴스 메서드 호출: unbound 호출"
   ]
  }
 ],
 "metadata": {
  "kernelspec": {
   "display_name": "Python 3 (ipykernel)",
   "language": "python",
   "name": "python3"
  },
  "language_info": {
   "codemirror_mode": {
    "name": "ipython",
    "version": 3
   },
   "file_extension": ".py",
   "mimetype": "text/x-python",
   "name": "python",
   "nbconvert_exporter": "python",
   "pygments_lexer": "ipython3",
   "version": "3.11.3"
  }
 },
 "nbformat": 4,
 "nbformat_minor": 5
}

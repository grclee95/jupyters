{
 "cells": [
  {
   "cell_type": "code",
   "execution_count": 1,
   "id": "a32dc210",
   "metadata": {},
   "outputs": [],
   "source": [
    "import numpy as np #numpy 모듈을 np라는 이름으로 가져오는 것 "
   ]
  },
  {
   "cell_type": "code",
   "execution_count": 4,
   "id": "d43df2fe",
   "metadata": {},
   "outputs": [
    {
     "name": "stdout",
     "output_type": "stream",
     "text": [
      "[1, 2, 3, 4, 5, 6, 7, 8, 9]\n",
      "[1 2 3 4 5 6 7 8 9]\n",
      "[[1 2 3]\n",
      " [4 5 6]\n",
      " [7 8 9]]\n"
     ]
    }
   ],
   "source": [
    "#일차원 배열과 이차원 배열 생성\n",
    "li = list(range(1, 10)) #일차원 list 생성\n",
    "print(li)\n",
    "\n",
    "#list를 이용해서 ndarray 생성\n",
    "ar = np.array(li)\n",
    "print(ar)\n",
    "\n",
    "#일차원 배열을 생성한 후 행과 열의 개수를 3 X 3 으로 변경\n",
    "matrix = np.array(li).reshape((3, 3)) \n",
    "print(matrix)"
   ]
  },
  {
   "cell_type": "code",
   "execution_count": 7,
   "id": "08d6f4c3",
   "metadata": {},
   "outputs": [
    {
     "name": "stdout",
     "output_type": "stream",
     "text": [
      "1\n",
      "1\n",
      "1\n",
      "[1 2 3]\n",
      "[1 4 7]\n"
     ]
    }
   ],
   "source": [
    "#인덱싱 - 데이터 1개 가져오기\n",
    "data1 = ar[0]\n",
    "print(data1)\n",
    "\n",
    "#이차원 배열에서 데이터 1개 찾아오기\n",
    "data2 = matrix[0, 0]\n",
    "data3 = matrix[0][0]\n",
    "print(data2)\n",
    "print(data3)\n",
    "\n",
    "#이차원 배열에서 행 하나 찾아오기\n",
    "row = matrix[0,:] #matrix[0][:], matrix[0]\n",
    "print(row)\n",
    "\n",
    "#이차원 배열에서 열 하나 찾아오기\n",
    "column = matrix[:, 0]\n",
    "print(column)"
   ]
  },
  {
   "cell_type": "code",
   "execution_count": 9,
   "id": "b4e70029",
   "metadata": {},
   "outputs": [
    {
     "name": "stdout",
     "output_type": "stream",
     "text": [
      "10\n",
      "[100, 2, 3]\n"
     ]
    }
   ],
   "source": [
    "#일반 인덱싱한 데이터는 파이썬의 기본 데이터와 동일하게 동작을 합니다.\n",
    "#파이썬의 scala data는 일반적으로 immutable (변경 불가능함)\n",
    "#scala data는 다른 변수에 대입할 때 값을 복사해서 대입합니다.\n",
    "\n",
    "a = 10\n",
    "b = a #b = 10\n",
    "b = 20\n",
    "print(a)\n",
    "\n",
    "#파이썬의 vector data는 다른 변수에 대입할 때 참조를 복사해서 대입합니다.\n",
    "ax = [1, 2, 3]\n",
    "bx = ax #bx = [1, 2, 3]의 참조\n",
    "bx[0] = 100\n",
    "print(ax)"
   ]
  },
  {
   "cell_type": "code",
   "execution_count": 18,
   "id": "d622b682",
   "metadata": {},
   "outputs": [
    {
     "name": "stdout",
     "output_type": "stream",
     "text": [
      "1000\n",
      "[1 2 3 4 5 6 7 8 9]\n",
      "1000\n",
      "[[1004    2    3]\n",
      " [   4    5    6]\n",
      " [   7    8    9]]\n",
      "[1004    2    3]\n",
      "[[1004    2    3]\n",
      " [   4    5    6]\n",
      " [   7    8    9]]\n",
      "[[1004    2    3]\n",
      " [   4    5    6]\n",
      " [   7    8    9]]\n"
     ]
    }
   ],
   "source": [
    "#scala data를 복사하는 경우는 원본의 값을 복사해서 대입하기 때문에\n",
    "#서로 간에 영향을 주지 않습니다.\n",
    "data1 = 1000\n",
    "print(data1)\n",
    "print(ar)\n",
    "\n",
    "data2 = 1000\n",
    "print(data2)\n",
    "print(matrix)\n",
    "\n",
    "#row는 scala data(primitive type)가 아니고 vector data(non-primitive type)\n",
    "#vector 데이터를 다른 곳에 대입하면 참조가 복사됩니다.\n",
    "#복사본을 수정하면 원본도 영향을 받습니다.\n",
    "row[0] = 1004\n",
    "print(row)\n",
    "print(matrix)\n",
    "\n",
    "#데이터 복제는 copy() 메서드\n",
    "clone = matrix.copy()\n",
    "clone[0][0] = 42 #복사본의 데이터를 수정해도 원본에서는 그대로 1004\n",
    "print(matrix)"
   ]
  },
  {
   "cell_type": "code",
   "execution_count": 16,
   "id": "6942d029",
   "metadata": {},
   "outputs": [
    {
     "name": "stdout",
     "output_type": "stream",
     "text": [
      "[1, 2, 3]\n",
      "[[100, 2, 3], [4, 5, 6]]\n",
      "[[100, 2, 3], [4, 5, 6]]\n",
      "[[100, 2, 3], [4, 5, 6]]\n"
     ]
    }
   ],
   "source": [
    "#파이썬에서의 데이터 복제\n",
    "#copy 모듈의 copy(shallow copy - 얕은 복사)와 deepcopy(깊은 복사) 함수 이용\n",
    "#얕은 복사는 한 번은 복제를 하지만 재귀적으로 수행하지 않음\n",
    "#깊은 복사는 재귀적으로 복제를 수행\n",
    "\n",
    "import copy\n",
    "li = [1, 2, 3]\n",
    "c = li.copy() #얕은 복사\n",
    "c[0] = 100 #일차원 list의 경우는 원본에 영향을 주지 않음\n",
    "print(li)\n",
    "\n",
    "m = [[1, 2, 3], [4, 5, 6]]\n",
    "c = m.copy() #얕은 복사는 이차원 배열의 경우는 원본에 영향을 줌\n",
    "m[0][0] = 100\n",
    "print(m)\n",
    "\n",
    "d = copy.deepcopy(m) #copy.deepcopy는 재귀적으로 복제를 수행하기 때문에\n",
    "#복사본의 데이터를 수정해도 원본에는 영향이 없습니다.\n",
    "print(d)\n",
    "d[0][0] = 1004\n",
    "print(m)"
   ]
  },
  {
   "cell_type": "markdown",
   "id": "298742ee",
   "metadata": {},
   "source": [
    "# 슬라이싱"
   ]
  },
  {
   "cell_type": "code",
   "execution_count": 20,
   "id": "15a3e668",
   "metadata": {},
   "outputs": [
    {
     "name": "stdout",
     "output_type": "stream",
     "text": [
      "[1, 2, 3]\n",
      "[1, 2, 3, 4, 5]\n",
      "[1 2 3]\n",
      "[100   2   3   4   5]\n"
     ]
    }
   ],
   "source": [
    "li = [1, 2, 3, 4, 5]\n",
    "c = li[0:3] #list의 슬라이싱: 얕은 복사 수행\n",
    "#c와 li는 앞 3개의 데이터가 동일하지만 다른 공간의 데이터\n",
    "print(c)\n",
    "c[0] = 100 #c의 값을 변경해도 li에는 영향이 없음\n",
    "print(li)\n",
    "\n",
    "ar = np.array(li)\n",
    "d = ar[0:3] #배열에서 0번째부터 2번째까지 데이터를 복사\n",
    "#0번째부터 2번째까지 이므로 이 데이터는 3개(vector data)\n",
    "#참조가 복사\n",
    "\n",
    "print(d)\n",
    "d[0] = 100 #d의 값을 수정하면 원본에 영향을 주게 됩니다.\n",
    "print(ar)"
   ]
  },
  {
   "cell_type": "markdown",
   "id": "92909e21",
   "metadata": {},
   "source": [
    "# Fancy Indexing"
   ]
  },
  {
   "cell_type": "code",
   "execution_count": 22,
   "id": "13318b39",
   "metadata": {},
   "outputs": [
    {
     "name": "stdout",
     "output_type": "stream",
     "text": [
      "[100 300]\n"
     ]
    }
   ],
   "source": [
    "#인덱싱을 할 때 list를 이용하는 것\n",
    "ar = np.array([100, 200, 300, 400, 500])\n",
    "print(ar[[0, 2]])"
   ]
  },
  {
   "cell_type": "code",
   "execution_count": 24,
   "id": "2f274c11",
   "metadata": {},
   "outputs": [
    {
     "name": "stdout",
     "output_type": "stream",
     "text": [
      "False\n",
      "True\n"
     ]
    },
    {
     "ename": "TypeError",
     "evalue": "'>' not supported between instances of 'list' and 'int'",
     "output_type": "error",
     "traceback": [
      "\u001b[0;31m---------------------------------------------------------------------------\u001b[0m",
      "\u001b[0;31mTypeError\u001b[0m                                 Traceback (most recent call last)",
      "Cell \u001b[0;32mIn[24], line 3\u001b[0m\n\u001b[1;32m      1\u001b[0m \u001b[38;5;28mprint\u001b[39m(\u001b[38;5;28mbool\u001b[39m([]))\n\u001b[1;32m      2\u001b[0m \u001b[38;5;28mprint\u001b[39m(\u001b[38;5;28mbool\u001b[39m([\u001b[38;5;241m1\u001b[39m,\u001b[38;5;241m2\u001b[39m,\u001b[38;5;241m3\u001b[39m]))\n\u001b[0;32m----> 3\u001b[0m \u001b[38;5;28mprint\u001b[39m([\u001b[38;5;241m1\u001b[39m,\u001b[38;5;241m2\u001b[39m,\u001b[38;5;241m3\u001b[39m] \u001b[38;5;241m>\u001b[39m \u001b[38;5;241m2\u001b[39m)\n",
      "\u001b[0;31mTypeError\u001b[0m: '>' not supported between instances of 'list' and 'int'"
     ]
    }
   ],
   "source": [
    "print(bool([]))\n",
    "print(bool([1,2,3]))\n",
    "print([1,2,3] > 2)"
   ]
  },
  {
   "cell_type": "code",
   "execution_count": 28,
   "id": "443d797f",
   "metadata": {},
   "outputs": [
    {
     "name": "stdout",
     "output_type": "stream",
     "text": [
      "[1 2 5 7]\n",
      "[6 7]\n"
     ]
    }
   ],
   "source": [
    "#불리언 색인: array의 인덱스에 bool 배열을 대입해서 True인 데이터만 골라내기\n",
    "ar = np.array([1, 2, 3, 4, 5 ,6, 7])\n",
    "result = ar[[True, True, False, False, True, False, True]]\n",
    "print(result)\n",
    "\n",
    "br = np.array([100, 20, 30, 40 , 50 , 80, 90])\n",
    "result = ar[(br >= 70) & (br <= 90)]\n",
    "print(result)"
   ]
  },
  {
   "cell_type": "markdown",
   "id": "2f1922a4",
   "metadata": {},
   "source": [
    "##ndarray의 연산"
   ]
  },
  {
   "cell_type": "code",
   "execution_count": 33,
   "id": "579ef862",
   "metadata": {},
   "outputs": [
    {
     "name": "stdout",
     "output_type": "stream",
     "text": [
      "[11 22 33 44 55]\n",
      "[5 6 7 8 9]\n",
      "[[ 2  4  6  8 10]\n",
      " [ 7  9 11 13 15]]\n"
     ]
    }
   ],
   "source": [
    "#산술 연산\n",
    "ar = np.array([1, 2, 3, 4, 5])\n",
    "br = np.array([10, 20, 30, 40, 50])\n",
    "\n",
    "result = ar + br\n",
    "print(result)\n",
    "\n",
    "result = ar + 4 #2개의 차원이 다른 경우로 이 경우 적은 차원의 데이터를 큰 차원으로 수정\n",
    "#ar + [4, 4, 4, 4, 4]\n",
    "print(result)\n",
    "\n",
    "k = range(1, 11)\n",
    "#일차원 배열을 2행 5열로 수정해서 연산을 수행\n",
    "cr = np.array(k).reshape((2,5))\n",
    "print(ar + cr)"
   ]
  },
  {
   "cell_type": "code",
   "execution_count": 37,
   "id": "318bf6de",
   "metadata": {},
   "outputs": [
    {
     "name": "stdout",
     "output_type": "stream",
     "text": [
      "False\n",
      "False\n",
      "False\n"
     ]
    },
    {
     "name": "stderr",
     "output_type": "stream",
     "text": [
      "/var/folders/bq/22f7j5dn6x5dcpn8t77q8t4h0000gn/T/ipykernel_23858/853332499.py:8: DeprecationWarning: elementwise comparison failed; this will raise an error in the future.\n",
      "  print([1, 2] in ar)\n",
      "/var/folders/bq/22f7j5dn6x5dcpn8t77q8t4h0000gn/T/ipykernel_23858/853332499.py:9: DeprecationWarning: elementwise comparison failed; this will raise an error in the future.\n",
      "  print([1, 100] in ar)\n"
     ]
    }
   ],
   "source": [
    "#논리 연산\n",
    "ar = np.array([1, 2, 3, 4, 5])\n",
    "br = np.array([10, 20, False, 40, 0])\n",
    "\n",
    "ar += br\n",
    "\n",
    "print(1 in ar)\n",
    "print([1, 2] in ar)\n",
    "print([1, 100] in ar)"
   ]
  },
  {
   "cell_type": "code",
   "execution_count": 40,
   "id": "66e2dadb",
   "metadata": {},
   "outputs": [
    {
     "name": "stdout",
     "output_type": "stream",
     "text": [
      "[111 122 103 144 105]\n",
      "[111 122 103 144 105]\n"
     ]
    }
   ],
   "source": [
    "#벡터화된 함수 적용\n",
    "#매개변수에 100을 더해서 리턴하는 함수\n",
    "\n",
    "def f(i):\n",
    "    return i + 100\n",
    "\n",
    "#벡터화된 함수로 수정\n",
    "vector_f = np.vectorize(f)\n",
    "#배열에 벡터화된 함수 적용\n",
    "print(vector_f(ar))\n",
    "\n",
    "#람다 함수를 이용해서 동일한 작업 수행\n",
    "print(np.vectorize(lambda i:i+100)(ar))\n"
   ]
  },
  {
   "cell_type": "code",
   "execution_count": 43,
   "id": "e581a36c",
   "metadata": {},
   "outputs": [
    {
     "name": "stdout",
     "output_type": "stream",
     "text": [
      "[[ 1  2]\n",
      " [ 3  4]\n",
      " [ 5  6]\n",
      " [ 7  8]\n",
      " [ 9 10]]\n",
      "[[ 1  2  3  4  5]\n",
      " [ 6  7  8  9 10]]\n",
      "[[ 1  3  5  7  9]\n",
      " [ 2  4  6  8 10]]\n",
      "[[ 1  3  5  7  9]\n",
      " [ 2  4  6  8 10]]\n"
     ]
    }
   ],
   "source": [
    "matrix = np.array(range(1, 11)).reshape((5, 2))\n",
    "print(matrix)\n",
    "print(matrix.reshape((2, 5))) #행과 열의 수를 변경해서 전치\n",
    "print(matrix.T) #행과 열을 변경\n",
    "print(np.transpose(matrix)) #행과 열을 변경"
   ]
  },
  {
   "cell_type": "code",
   "execution_count": 51,
   "id": "5fd18fb1",
   "metadata": {},
   "outputs": [
    {
     "name": "stdout",
     "output_type": "stream",
     "text": [
      "[ 1  2  3  4  5  6  7  8  9 10 11 12 13 14 15 16 17 18 19 20 21 22 23 24\n",
      " 25 26 27 28 29 30 31 32 33 34 35 36 37 38 39 40 41 42 43 44 45 46 47 48]\n",
      "[28 41 27 44 25 38 13 20  5 26  9  4  7 40 34 14 18 46 16 10 17 30 33 47\n",
      "  1 32 31  6 12 35  2 45 22  3 37 36 24 42 11 23 19 48 21  8 43 15 29 39]\n"
     ]
    }
   ],
   "source": [
    "np.random.seed(seed=42) #seed 고정\n",
    "cards = np.array(range(1, 49)) #1부터 48까지의 일차원 배열\n",
    "print(cards)\n",
    "#배열을 섞어서 리턴\n",
    "result = np.random.permutation(cards)\n",
    "print(result)"
   ]
  },
  {
   "cell_type": "code",
   "execution_count": 63,
   "id": "3533e2ef",
   "metadata": {},
   "outputs": [
    {
     "name": "stdout",
     "output_type": "stream",
     "text": [
      "[[-0.89633518 -0.11198782  1.46894129 -1.12389833  0.9500054 ]\n",
      " [ 1.72651647  0.45788508 -1.68428738  0.32684522 -0.08111895]\n",
      " [ 0.46779475  0.73612235 -0.77970188 -0.84389636 -0.15053386]\n",
      " [-0.96555767  0.15048908 -0.11342125  2.63352822 -1.02509089]]\n",
      "1.1422982711234242\n",
      "1.0552836504869048\n",
      "1.0826981807089602\n",
      "0.5348766526146782\n",
      "[ 0.33241837  1.23250869 -1.10846922  0.99257875 -0.30673831]\n",
      "[ 0.28672534  0.74584044 -0.570215    0.67994749]\n",
      "[[ 0.28672534]\n",
      " [ 0.74584044]\n",
      " [-0.570215  ]\n",
      " [ 0.67994749]]\n",
      "[2 0 1 3]\n",
      "[ 0.69899607 -0.00568044 -0.21879815  0.81638734 -0.01189173]\n"
     ]
    }
   ],
   "source": [
    "#기본 통계 함수\n",
    "matrix = np.random.randn(20).reshape((4, 5))\n",
    "print(matrix)\n",
    "print(matrix.sum())\n",
    "print(matrix.std()) #표준 편차\n",
    "print(matrix.std(ddof=1)) #표준 편차 - 자유도 1 적용\n",
    "print(np.percentile(matrix, 75)) #75%에 해당하는 값\n",
    "#행 단위와 열 단위 합계\n",
    "print(matrix.sum(axis=0)) #열 단위\n",
    "print(matrix.sum(axis=1)) #행 단위\n",
    "print(matrix.sum(axis=1, keepdims=True)) #행 단위 - matrix와 동일한 차원으로 리턴\n",
    "\n",
    "print(matrix.argmax(axis=1))\n",
    "print(matrix.prod(axis=0))"
   ]
  },
  {
   "cell_type": "code",
   "execution_count": 65,
   "id": "f8b851e1",
   "metadata": {},
   "outputs": [
    {
     "name": "stdout",
     "output_type": "stream",
     "text": [
      "Help on function sort in module numpy:\n",
      "\n",
      "sort(a, axis=-1, kind=None, order=None)\n",
      "    Return a sorted copy of an array.\n",
      "    \n",
      "    Parameters\n",
      "    ----------\n",
      "    a : array_like\n",
      "        Array to be sorted.\n",
      "    axis : int or None, optional\n",
      "        Axis along which to sort. If None, the array is flattened before\n",
      "        sorting. The default is -1, which sorts along the last axis.\n",
      "    kind : {'quicksort', 'mergesort', 'heapsort', 'stable'}, optional\n",
      "        Sorting algorithm. The default is 'quicksort'. Note that both 'stable'\n",
      "        and 'mergesort' use timsort or radix sort under the covers and, in general,\n",
      "        the actual implementation will vary with data type. The 'mergesort' option\n",
      "        is retained for backwards compatibility.\n",
      "    \n",
      "        .. versionchanged:: 1.15.0.\n",
      "           The 'stable' option was added.\n",
      "    \n",
      "    order : str or list of str, optional\n",
      "        When `a` is an array with fields defined, this argument specifies\n",
      "        which fields to compare first, second, etc.  A single field can\n",
      "        be specified as a string, and not all fields need be specified,\n",
      "        but unspecified fields will still be used, in the order in which\n",
      "        they come up in the dtype, to break ties.\n",
      "    \n",
      "    Returns\n",
      "    -------\n",
      "    sorted_array : ndarray\n",
      "        Array of the same type and shape as `a`.\n",
      "    \n",
      "    See Also\n",
      "    --------\n",
      "    ndarray.sort : Method to sort an array in-place.\n",
      "    argsort : Indirect sort.\n",
      "    lexsort : Indirect stable sort on multiple keys.\n",
      "    searchsorted : Find elements in a sorted array.\n",
      "    partition : Partial sort.\n",
      "    \n",
      "    Notes\n",
      "    -----\n",
      "    The various sorting algorithms are characterized by their average speed,\n",
      "    worst case performance, work space size, and whether they are stable. A\n",
      "    stable sort keeps items with the same key in the same relative\n",
      "    order. The four algorithms implemented in NumPy have the following\n",
      "    properties:\n",
      "    \n",
      "    =========== ======= ============= ============ ========\n",
      "       kind      speed   worst case    work space   stable\n",
      "    =========== ======= ============= ============ ========\n",
      "    'quicksort'    1     O(n^2)            0          no\n",
      "    'heapsort'     3     O(n*log(n))       0          no\n",
      "    'mergesort'    2     O(n*log(n))      ~n/2        yes\n",
      "    'timsort'      2     O(n*log(n))      ~n/2        yes\n",
      "    =========== ======= ============= ============ ========\n",
      "    \n",
      "    .. note:: The datatype determines which of 'mergesort' or 'timsort'\n",
      "       is actually used, even if 'mergesort' is specified. User selection\n",
      "       at a finer scale is not currently available.\n",
      "    \n",
      "    All the sort algorithms make temporary copies of the data when\n",
      "    sorting along any but the last axis.  Consequently, sorting along\n",
      "    the last axis is faster and uses less space than sorting along\n",
      "    any other axis.\n",
      "    \n",
      "    The sort order for complex numbers is lexicographic. If both the real\n",
      "    and imaginary parts are non-nan then the order is determined by the\n",
      "    real parts except when they are equal, in which case the order is\n",
      "    determined by the imaginary parts.\n",
      "    \n",
      "    Previous to numpy 1.4.0 sorting real and complex arrays containing nan\n",
      "    values led to undefined behaviour. In numpy versions >= 1.4.0 nan\n",
      "    values are sorted to the end. The extended sort order is:\n",
      "    \n",
      "      * Real: [R, nan]\n",
      "      * Complex: [R + Rj, R + nanj, nan + Rj, nan + nanj]\n",
      "    \n",
      "    where R is a non-nan real value. Complex values with the same nan\n",
      "    placements are sorted according to the non-nan part if it exists.\n",
      "    Non-nan values are sorted as before.\n",
      "    \n",
      "    .. versionadded:: 1.12.0\n",
      "    \n",
      "    quicksort has been changed to `introsort <https://en.wikipedia.org/wiki/Introsort>`_.\n",
      "    When sorting does not make enough progress it switches to\n",
      "    `heapsort <https://en.wikipedia.org/wiki/Heapsort>`_.\n",
      "    This implementation makes quicksort O(n*log(n)) in the worst case.\n",
      "    \n",
      "    'stable' automatically chooses the best stable sorting algorithm\n",
      "    for the data type being sorted.\n",
      "    It, along with 'mergesort' is currently mapped to\n",
      "    `timsort <https://en.wikipedia.org/wiki/Timsort>`_\n",
      "    or `radix sort <https://en.wikipedia.org/wiki/Radix_sort>`_\n",
      "    depending on the data type.\n",
      "    API forward compatibility currently limits the\n",
      "    ability to select the implementation and it is hardwired for the different\n",
      "    data types.\n",
      "    \n",
      "    .. versionadded:: 1.17.0\n",
      "    \n",
      "    Timsort is added for better performance on already or nearly\n",
      "    sorted data. On random data timsort is almost identical to\n",
      "    mergesort. It is now used for stable sort while quicksort is still the\n",
      "    default sort if none is chosen. For timsort details, refer to\n",
      "    `CPython listsort.txt <https://github.com/python/cpython/blob/3.7/Objects/listsort.txt>`_.\n",
      "    'mergesort' and 'stable' are mapped to radix sort for integer data types. Radix sort is an\n",
      "    O(n) sort instead of O(n log n).\n",
      "    \n",
      "    .. versionchanged:: 1.18.0\n",
      "    \n",
      "    NaT now sorts to the end of arrays for consistency with NaN.\n",
      "    \n",
      "    Examples\n",
      "    --------\n",
      "    >>> a = np.array([[1,4],[3,1]])\n",
      "    >>> np.sort(a)                # sort along the last axis\n",
      "    array([[1, 4],\n",
      "           [1, 3]])\n",
      "    >>> np.sort(a, axis=None)     # sort the flattened array\n",
      "    array([1, 1, 3, 4])\n",
      "    >>> np.sort(a, axis=0)        # sort along the first axis\n",
      "    array([[1, 1],\n",
      "           [3, 4]])\n",
      "    \n",
      "    Use the `order` keyword to specify a field to use when sorting a\n",
      "    structured array:\n",
      "    \n",
      "    >>> dtype = [('name', 'S10'), ('height', float), ('age', int)]\n",
      "    >>> values = [('Arthur', 1.8, 41), ('Lancelot', 1.9, 38),\n",
      "    ...           ('Galahad', 1.7, 38)]\n",
      "    >>> a = np.array(values, dtype=dtype)       # create a structured array\n",
      "    >>> np.sort(a, order='height')                        # doctest: +SKIP\n",
      "    array([('Galahad', 1.7, 38), ('Arthur', 1.8, 41),\n",
      "           ('Lancelot', 1.8999999999999999, 38)],\n",
      "          dtype=[('name', '|S10'), ('height', '<f8'), ('age', '<i4')])\n",
      "    \n",
      "    Sort by age, then height if ages are equal:\n",
      "    \n",
      "    >>> np.sort(a, order=['age', 'height'])               # doctest: +SKIP\n",
      "    array([('Galahad', 1.7, 38), ('Lancelot', 1.8999999999999999, 38),\n",
      "           ('Arthur', 1.8, 41)],\n",
      "          dtype=[('name', '|S10'), ('height', '<f8'), ('age', '<i4')])\n",
      "\n"
     ]
    }
   ],
   "source": [
    "help(np.sort)"
   ]
  },
  {
   "cell_type": "code",
   "execution_count": 67,
   "id": "02bf8146",
   "metadata": {},
   "outputs": [
    {
     "name": "stdout",
     "output_type": "stream",
     "text": [
      "[10 20 25 27 30]\n",
      "[20 30 10 25 27]\n",
      "[[10 60 80]\n",
      " [20 30 50]\n",
      " [15 29 32]]\n"
     ]
    }
   ],
   "source": [
    "#일차원 배열의 정렬\n",
    "ar = np.array([20, 30, 10, 25, 27])\n",
    "result = np.sort(ar) #데이터를 정렬\n",
    "print(result)\n",
    "print(ar)\n",
    "\n",
    "#2차원 배열에서 행에서의 정렬\n",
    "br = np.array([[10, 60, 80], [20, 50, 30], [15, 32, 29]])\n",
    "result = np.sort(br, axis = 1)\n",
    "print(result)"
   ]
  },
  {
   "cell_type": "code",
   "execution_count": 82,
   "id": "a8427a03",
   "metadata": {},
   "outputs": [
    {
     "name": "stdout",
     "output_type": "stream",
     "text": [
      "[[ 1  2  3  4  5]\n",
      " [ 6  7  8  9 10]\n",
      " [11 12 13 14 15]\n",
      " [16 17 18 19 20]\n",
      " [21 22 23 24 25]\n",
      " [26 27 28 29 30]\n",
      " [31 32 33 34 35]\n",
      " [36 37 38 39 40]\n",
      " [41 42 43 44 45]\n",
      " [46 47 48 49 50]]\n",
      "(10, 5)\n",
      "<class 'tuple'>\n",
      "10\n",
      "[[ 1  2  3  4  5]\n",
      " [ 6  7  8  9 10]\n",
      " [11 12 13 14 15]\n",
      " [16 17 18 19 20]\n",
      " [21 22 23 24 25]\n",
      " [26 27 28 29 30]\n",
      " [31 32 33 34 35]]\n",
      "[[36 37 38 39 40]\n",
      " [41 42 43 44 45]]\n",
      "[[46 47 48 49 50]]\n"
     ]
    }
   ],
   "source": [
    "x = range(1, 51)\n",
    "#위의 데이터를 가지고 10행 5열 짜리 이차원 배열 생성\n",
    "matrix = np.array(x).reshape((10, 5))\n",
    "print(matrix)\n",
    "\n",
    "#행과 열의 개수 가져오기\n",
    "print(matrix.shape)\n",
    "print(type(matrix.shape))\n",
    "\n",
    "cnt = matrix.shape[0]\n",
    "print(cnt)\n",
    "\n",
    "#데이터를 가지고 7:3 분할 ... np.split 사용\n",
    "#여기에 permutation을 적용하면 샘플링 해주는 함수가 됩니다.\n",
    "k = np.split(matrix, [int(cnt * 0.7), int(cnt * 0.9)])\n",
    "\n",
    "print(k[0])\n",
    "print(k[1])\n",
    "print(k[2])"
   ]
  },
  {
   "cell_type": "code",
   "execution_count": null,
   "id": "54923c8f",
   "metadata": {},
   "outputs": [],
   "source": []
  }
 ],
 "metadata": {
  "kernelspec": {
   "display_name": "Python 3 (ipykernel)",
   "language": "python",
   "name": "python3"
  },
  "language_info": {
   "codemirror_mode": {
    "name": "ipython",
    "version": 3
   },
   "file_extension": ".py",
   "mimetype": "text/x-python",
   "name": "python",
   "nbconvert_exporter": "python",
   "pygments_lexer": "ipython3",
   "version": "3.11.3"
  }
 },
 "nbformat": 4,
 "nbformat_minor": 5
}

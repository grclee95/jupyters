{
 "cells": [
  {
   "cell_type": "code",
   "execution_count": 67,
   "id": "cebba8ec",
   "metadata": {
    "scrolled": true
   },
   "outputs": [
    {
     "name": "stdout",
     "output_type": "stream",
     "text": [
      "cccCCC\n",
      "cccCCC\n",
      "cccCCC\n"
     ]
    }
   ],
   "source": [
    "my_string = \"cccCCC\"\n",
    "\n",
    "for letters in my_string:    \n",
    "    if ord(letters) < 97:\n",
    "        my_string.replace(letters, letters.upper())\n",
    "    else:\n",
    "        my_string.replace(letters, letters.lower())\n"
   ]
  },
  {
   "cell_type": "code",
   "execution_count": null,
   "id": "e15a3216",
   "metadata": {},
   "outputs": [],
   "source": []
  }
 ],
 "metadata": {
  "kernelspec": {
   "display_name": "Python 3 (ipykernel)",
   "language": "python",
   "name": "python3"
  },
  "language_info": {
   "codemirror_mode": {
    "name": "ipython",
    "version": 3
   },
   "file_extension": ".py",
   "mimetype": "text/x-python",
   "name": "python",
   "nbconvert_exporter": "python",
   "pygments_lexer": "ipython3",
   "version": "3.11.3"
  }
 },
 "nbformat": 4,
 "nbformat_minor": 5
}

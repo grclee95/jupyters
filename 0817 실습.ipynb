{
 "cells": [
  {
   "cell_type": "code",
   "execution_count": 29,
   "id": "0fa714e6",
   "metadata": {},
   "outputs": [],
   "source": [
    "import numpy as np\n",
    "import pandas as pd\n",
    "import matplotlib.pyplot as plt\n",
    "import platform\n",
    "from matplotlib import font_manager, rc\n",
    "\n",
    "#그래프에서 한글을 사용하기 위해서 설정\n",
    "if platform.system() == 'Darwin':\n",
    "    rc('font', family=\"AppleGothic\")\n",
    "elif platform.system() == 'Windows':\n",
    "    font_name = font_manager.FontProperties(fname='c:/Windows/Fonts/malgun.ttf').get_name()\n",
    "    rc('font', family=font_name)\n",
    "\n",
    "#그래프에 음수를 사용하기 위해서 설정\n",
    "plt.rcParams['axes.unicode_minus'] = False"
   ]
  },
  {
   "cell_type": "code",
   "execution_count": 12,
   "id": "b7f976ec",
   "metadata": {},
   "outputs": [
    {
     "name": "stdout",
     "output_type": "stream",
     "text": [
      "     국어  영어  수학\n",
      "이름             \n",
      "박지영  90  85  55\n",
      "김태함  70  65  80\n",
      "김효섭  92  95  76\n",
      "임경희  76  89  88\n",
      "권혁진  97  87  83\n",
      "하혜진  80  86  97\n",
      "이준원  20  30  40\n",
      "윤정웅  50  52  54\n",
      "주시현  95  70  80\n"
     ]
    },
    {
     "data": {
      "text/plain": [
       "<Axes: xlabel='이름'>"
      ]
     },
     "execution_count": 12,
     "metadata": {},
     "output_type": "execute_result"
    },
    {
     "data": {
      "image/png": "[encoded data removed]",
      "text/plain": [
       "<Figure size 640x480 with 1 Axes>"
      ]
     },
     "metadata": {},
     "output_type": "display_data"
    }
   ],
   "source": [
    "#student.csv 파일을 읽어오기\n",
    "#이름을 인덱스로 사용\n",
    "df = pd.read_csv(\"./data/student.csv\", encoding='ms949', index_col='이름')\n",
    "print(df)\n",
    "\n",
    "# df.plot(kind='bar')\n",
    "\n",
    "#위 데이터의 경우 단순한 표준화 작업만으로는 성적을 비교하는 것이 어려울 수 있음\n",
    "#최대값이나 최대값-최소값으로 나눈 데이터로는 비교하기가 어려움\n",
    "#이런 경우에는 표준값이나 편차값을 구해서 비교하는 것이 좋습니다.\n",
    "\n",
    "#평균과 표준 편차 구하기\n",
    "kormean, korstd = df['국어'].mean(), df['국어'].std()\n",
    "engmean, engstd = df['영어'].mean(), df['영어'].std()\n",
    "matmean, matstd = df['수학'].mean(), df['수학'].std()\n",
    "\n",
    "#표준값 구하기\n",
    "df['국어표준값'] = (df['국어']-kormean)/korstd\n",
    "df['영어표준값'] = (df['영어']-engmean)/engstd\n",
    "df['수학표준값'] = (df['수학']-matmean)/matstd\n",
    "\n",
    "#편차값 구하기\n",
    "df['국어편차값'] = df['국어표준값'] * 10 + 50\n",
    "df['영어편차값'] = df['영어표준값'] * 10 + 50\n",
    "df['수학편차값'] = df['수학표준값'] * 10 + 50\n",
    "\n",
    "df[['국어편차값', '영어편차값', '수학편차값']].plot(kind='bar')"
   ]
  },
  {
   "cell_type": "code",
   "execution_count": 13,
   "id": "309433d4",
   "metadata": {},
   "outputs": [],
   "source": [
    "###표준화"
   ]
  },
  {
   "cell_type": "code",
   "execution_count": 15,
   "id": "cc3dc851",
   "metadata": {},
   "outputs": [
    {
     "name": "stdout",
     "output_type": "stream",
     "text": [
      "    mpg  cylinders  displacement  horsepower  weight  acceleration  \\\n",
      "0  18.0          8         307.0       130.0  3504.0          12.0   \n",
      "1  15.0          8         350.0       165.0  3693.0          11.5   \n",
      "2  18.0          8         318.0       150.0  3436.0          11.0   \n",
      "3  16.0          8         304.0       150.0  3433.0          12.0   \n",
      "4  17.0          8         302.0       140.0  3449.0          10.5   \n",
      "\n",
      "   model year  origin                       name  \n",
      "0          70       1  chevrolet chevelle malibu  \n",
      "1          70       1          buick skylark 320  \n",
      "2          70       1         plymouth satellite  \n",
      "3          70       1              amc rebel sst  \n",
      "4          70       1                ford torino  \n"
     ]
    }
   ],
   "source": [
    "#데이터 읽어오기\n",
    "auto_mpg = pd.read_csv('./data/auto-mpg.csv', header=None)\n",
    "#컬럼 이름 설정\n",
    "auto_mpg.columns = ['mpg', 'cylinders', 'displacement', 'horsepower', 'weight',\n",
    "                   'acceleration', 'model year', 'origin', 'name']\n",
    "#horsepower 열의 자료형을 실수로 변경\n",
    "#?를 None으로 치환하고 제거한 후 자료형 변경\n",
    "auto_mpg['horsepower'].replace('?', np.nan, inplace=True)\n",
    "auto_mpg.dropna(subset=['horsepower'], axis=0, inplace=True)\n",
    "auto_mpg['horsepower']=auto_mpg['horsepower'].astype('float')\n",
    "print(auto_mpg.head())"
   ]
  },
  {
   "cell_type": "code",
   "execution_count": 20,
   "id": "39a4c093",
   "metadata": {},
   "outputs": [
    {
     "data": {
      "text/html": [
       "<div>\n",
       "<style scoped>\n",
       "    .dataframe tbody tr th:only-of-type {\n",
       "        vertical-align: middle;\n",
       "    }\n",
       "\n",
       "    .dataframe tbody tr th {\n",
       "        vertical-align: top;\n",
       "    }\n",
       "\n",
       "    .dataframe thead th {\n",
       "        text-align: right;\n",
       "    }\n",
       "</style>\n",
       "<table border=\"1\" class=\"dataframe\">\n",
       "  <thead>\n",
       "    <tr style=\"text-align: right;\">\n",
       "      <th></th>\n",
       "      <th>mpg</th>\n",
       "      <th>cylinders</th>\n",
       "      <th>displacement</th>\n",
       "      <th>horsepower</th>\n",
       "      <th>weight</th>\n",
       "      <th>acceleration</th>\n",
       "      <th>model year</th>\n",
       "      <th>origin</th>\n",
       "      <th>maxhorsepower</th>\n",
       "      <th>minmaxhorsepower</th>\n",
       "    </tr>\n",
       "  </thead>\n",
       "  <tbody>\n",
       "    <tr>\n",
       "      <th>count</th>\n",
       "      <td>392.000000</td>\n",
       "      <td>392.000000</td>\n",
       "      <td>392.000000</td>\n",
       "      <td>392.000000</td>\n",
       "      <td>392.000000</td>\n",
       "      <td>392.000000</td>\n",
       "      <td>392.000000</td>\n",
       "      <td>392.000000</td>\n",
       "      <td>392.000000</td>\n",
       "      <td>392.000000</td>\n",
       "    </tr>\n",
       "    <tr>\n",
       "      <th>mean</th>\n",
       "      <td>23.445918</td>\n",
       "      <td>5.471939</td>\n",
       "      <td>194.411990</td>\n",
       "      <td>104.469388</td>\n",
       "      <td>2977.584184</td>\n",
       "      <td>15.541327</td>\n",
       "      <td>75.979592</td>\n",
       "      <td>1.576531</td>\n",
       "      <td>0.454215</td>\n",
       "      <td>0.317768</td>\n",
       "    </tr>\n",
       "    <tr>\n",
       "      <th>std</th>\n",
       "      <td>7.805007</td>\n",
       "      <td>1.705783</td>\n",
       "      <td>104.644004</td>\n",
       "      <td>38.491160</td>\n",
       "      <td>849.402560</td>\n",
       "      <td>2.758864</td>\n",
       "      <td>3.683737</td>\n",
       "      <td>0.805518</td>\n",
       "      <td>0.167353</td>\n",
       "      <td>0.209191</td>\n",
       "    </tr>\n",
       "    <tr>\n",
       "      <th>min</th>\n",
       "      <td>9.000000</td>\n",
       "      <td>3.000000</td>\n",
       "      <td>68.000000</td>\n",
       "      <td>46.000000</td>\n",
       "      <td>1613.000000</td>\n",
       "      <td>8.000000</td>\n",
       "      <td>70.000000</td>\n",
       "      <td>1.000000</td>\n",
       "      <td>0.200000</td>\n",
       "      <td>0.000000</td>\n",
       "    </tr>\n",
       "    <tr>\n",
       "      <th>25%</th>\n",
       "      <td>17.000000</td>\n",
       "      <td>4.000000</td>\n",
       "      <td>105.000000</td>\n",
       "      <td>75.000000</td>\n",
       "      <td>2225.250000</td>\n",
       "      <td>13.775000</td>\n",
       "      <td>73.000000</td>\n",
       "      <td>1.000000</td>\n",
       "      <td>0.326087</td>\n",
       "      <td>0.157609</td>\n",
       "    </tr>\n",
       "    <tr>\n",
       "      <th>50%</th>\n",
       "      <td>22.750000</td>\n",
       "      <td>4.000000</td>\n",
       "      <td>151.000000</td>\n",
       "      <td>93.500000</td>\n",
       "      <td>2803.500000</td>\n",
       "      <td>15.500000</td>\n",
       "      <td>76.000000</td>\n",
       "      <td>1.000000</td>\n",
       "      <td>0.406522</td>\n",
       "      <td>0.258152</td>\n",
       "    </tr>\n",
       "    <tr>\n",
       "      <th>75%</th>\n",
       "      <td>29.000000</td>\n",
       "      <td>8.000000</td>\n",
       "      <td>275.750000</td>\n",
       "      <td>126.000000</td>\n",
       "      <td>3614.750000</td>\n",
       "      <td>17.025000</td>\n",
       "      <td>79.000000</td>\n",
       "      <td>2.000000</td>\n",
       "      <td>0.547826</td>\n",
       "      <td>0.434783</td>\n",
       "    </tr>\n",
       "    <tr>\n",
       "      <th>max</th>\n",
       "      <td>46.600000</td>\n",
       "      <td>8.000000</td>\n",
       "      <td>455.000000</td>\n",
       "      <td>230.000000</td>\n",
       "      <td>5140.000000</td>\n",
       "      <td>24.800000</td>\n",
       "      <td>82.000000</td>\n",
       "      <td>3.000000</td>\n",
       "      <td>1.000000</td>\n",
       "      <td>1.000000</td>\n",
       "    </tr>\n",
       "  </tbody>\n",
       "</table>\n",
       "</div>"
      ],
      "text/plain": [
       "              mpg   cylinders  displacement  horsepower       weight  \\\n",
       "count  392.000000  392.000000    392.000000  392.000000   392.000000   \n",
       "mean    23.445918    5.471939    194.411990  104.469388  2977.584184   \n",
       "std      7.805007    1.705783    104.644004   38.491160   849.402560   \n",
       "min      9.000000    3.000000     68.000000   46.000000  1613.000000   \n",
       "25%     17.000000    4.000000    105.000000   75.000000  2225.250000   \n",
       "50%     22.750000    4.000000    151.000000   93.500000  2803.500000   \n",
       "75%     29.000000    8.000000    275.750000  126.000000  3614.750000   \n",
       "max     46.600000    8.000000    455.000000  230.000000  5140.000000   \n",
       "\n",
       "       acceleration  model year      origin  maxhorsepower  minmaxhorsepower  \n",
       "count    392.000000  392.000000  392.000000     392.000000        392.000000  \n",
       "mean      15.541327   75.979592    1.576531       0.454215          0.317768  \n",
       "std        2.758864    3.683737    0.805518       0.167353          0.209191  \n",
       "min        8.000000   70.000000    1.000000       0.200000          0.000000  \n",
       "25%       13.775000   73.000000    1.000000       0.326087          0.157609  \n",
       "50%       15.500000   76.000000    1.000000       0.406522          0.258152  \n",
       "75%       17.025000   79.000000    2.000000       0.547826          0.434783  \n",
       "max       24.800000   82.000000    3.000000       1.000000          1.000000  "
      ]
     },
     "execution_count": 20,
     "metadata": {},
     "output_type": "execute_result"
    }
   ],
   "source": [
    "#horsepower 열의 표준화\n",
    "auto_mpg['maxhorsepower'] = auto_mpg['horsepower']/auto_mpg['horsepower'].max()\n",
    "auto_mpg['minmaxhorsepower'] = (auto_mpg['horsepower'] - auto_mpg['horsepower'].min()) / (auto_mpg['horsepower'].max() - auto_mpg['horsepower'].min())\n",
    "auto_mpg.describe()"
   ]
  },
  {
   "cell_type": "code",
   "execution_count": 22,
   "id": "bbeae814",
   "metadata": {},
   "outputs": [
    {
     "data": {
      "text/html": [
       "<div>\n",
       "<style scoped>\n",
       "    .dataframe tbody tr th:only-of-type {\n",
       "        vertical-align: middle;\n",
       "    }\n",
       "\n",
       "    .dataframe tbody tr th {\n",
       "        vertical-align: top;\n",
       "    }\n",
       "\n",
       "    .dataframe thead th {\n",
       "        text-align: right;\n",
       "    }\n",
       "</style>\n",
       "<table border=\"1\" class=\"dataframe\">\n",
       "  <thead>\n",
       "    <tr style=\"text-align: right;\">\n",
       "      <th></th>\n",
       "      <th>horsepower</th>\n",
       "    </tr>\n",
       "  </thead>\n",
       "  <tbody>\n",
       "    <tr>\n",
       "      <th>count</th>\n",
       "      <td>392.000000</td>\n",
       "    </tr>\n",
       "    <tr>\n",
       "      <th>mean</th>\n",
       "      <td>104.469388</td>\n",
       "    </tr>\n",
       "    <tr>\n",
       "      <th>std</th>\n",
       "      <td>38.491160</td>\n",
       "    </tr>\n",
       "    <tr>\n",
       "      <th>min</th>\n",
       "      <td>46.000000</td>\n",
       "    </tr>\n",
       "    <tr>\n",
       "      <th>25%</th>\n",
       "      <td>75.000000</td>\n",
       "    </tr>\n",
       "    <tr>\n",
       "      <th>50%</th>\n",
       "      <td>93.500000</td>\n",
       "    </tr>\n",
       "    <tr>\n",
       "      <th>75%</th>\n",
       "      <td>126.000000</td>\n",
       "    </tr>\n",
       "    <tr>\n",
       "      <th>max</th>\n",
       "      <td>230.000000</td>\n",
       "    </tr>\n",
       "  </tbody>\n",
       "</table>\n",
       "</div>"
      ],
      "text/plain": [
       "       horsepower\n",
       "count  392.000000\n",
       "mean   104.469388\n",
       "std     38.491160\n",
       "min     46.000000\n",
       "25%     75.000000\n",
       "50%     93.500000\n",
       "75%    126.000000\n",
       "max    230.000000"
      ]
     },
     "execution_count": 22,
     "metadata": {},
     "output_type": "execute_result"
    }
   ],
   "source": [
    "auto_mpg[['horsepower']].describe()"
   ]
  },
  {
   "cell_type": "code",
   "execution_count": 34,
   "id": "e8bffd49",
   "metadata": {},
   "outputs": [
    {
     "name": "stdout",
     "output_type": "stream",
     "text": [
      "평균: -1.812609019796174e-16\n",
      "표준편차: 0.9999999999999998\n",
      "최대값: 3.2654519904664348\n",
      "최소값: -1.5209754434541274\n"
     ]
    }
   ],
   "source": [
    "from sklearn import preprocessing\n",
    "#스케일링을 수행할 데이터를 가져오기\n",
    "x = auto_mpg[['horsepower']].values\n",
    "# print(type(x))\n",
    "\n",
    "x_scaled = scaler.fit_transform(x)\n",
    "\n",
    "print('평균:', np.mean(x_scaled))\n",
    "print('표준편차:', np.std(x_scaled))\n",
    "print('최대값:', np.max(x_scaled))\n",
    "print('최소값:', np.min(x_scaled))"
   ]
  },
  {
   "cell_type": "code",
   "execution_count": 35,
   "id": "c8c58852",
   "metadata": {},
   "outputs": [],
   "source": [
    "###정규화"
   ]
  },
  {
   "cell_type": "code",
   "execution_count": 47,
   "id": "6a329412",
   "metadata": {},
   "outputs": [
    {
     "name": "stdout",
     "output_type": "stream",
     "text": [
      "[[0.33333333 0.66666667]\n",
      " [0.4        0.6       ]\n",
      " [0.27272727 0.72727273]\n",
      " [0.66666667 0.33333333]\n",
      " [0.77777778 0.22222222]]\n"
     ]
    }
   ],
   "source": [
    "features = np.array([[1, 2], [2, 3], [3, 8], [4, 2], [7, 2]])\n",
    "\n",
    "#정규화 객체\n",
    "#l1을 norm에 적용하면 맨하튼 거리 - 합치면 1\n",
    "#l2를 적용하면 유클리드 거리 - 각 값을 전체 데이터를 제곱해서 더한 값의 제곱근으로 나눈 값\n",
    "normalizer = preprocessing.Normalizer(norm=\"l1\")\n",
    "l1_norm = normalizer.transform(features)\n",
    "print(l1_norm)"
   ]
  },
  {
   "cell_type": "code",
   "execution_count": 52,
   "id": "461d996a",
   "metadata": {},
   "outputs": [
    {
     "name": "stdout",
     "output_type": "stream",
     "text": [
      "[[ 1.  2.  2.]\n",
      " [ 2.  3.  6.]\n",
      " [ 3.  8. 24.]\n",
      " [ 4.  2.  8.]\n",
      " [ 7.  2. 14.]]\n"
     ]
    }
   ],
   "source": [
    "#다항과 교차항 생성\n",
    "features = np.array([[1, 2], [2, 3], [3, 8], [4, 2], [7, 2]])\n",
    "\n",
    "#제곱항까지의 다항을 생성 - 열의 개수가 늘어나게 되는데\n",
    "#회귀 분석을 할 때 시간의 흐름에 따라 변화가 급격하게 일어나는 경우 또는\n",
    "#데이터가 부족할 때 샘플 데이터를 추가하기 위해서 사용\n",
    "#제곱을 하거나 곱하기를 하게되면 데이터의 특성 자체는 크게 변화하지 않기 때문에 사용\n",
    "polynomialer = preprocessing.PolynomialFeatures(degree=2, include_bias=False,\n",
    "                                               interaction_only=True)\n",
    "result = polynomialer.fit_transform(features)\n",
    "print(result)"
   ]
  },
  {
   "cell_type": "code",
   "execution_count": 67,
   "id": "b8a7739b",
   "metadata": {},
   "outputs": [
    {
     "name": "stdout",
     "output_type": "stream",
     "text": [
      "[[2 3]\n",
      " [3 4]\n",
      " [4 9]\n",
      " [5 3]\n",
      " [8 3]]\n",
      "[[2 1]\n",
      " [3 2]\n",
      " [4 7]\n",
      " [5 1]\n",
      " [8 1]]\n"
     ]
    }
   ],
   "source": [
    "from sklearn.compose import ColumnTransformer\n",
    "\n",
    "features = np.array([[1, 2], [2, 3], [3, 8], [4, 2], [7, 2]])\n",
    "\n",
    "#위의 데이터에 함수 적용\n",
    "result1 = preprocessing.FunctionTransformer(lambda x: x + 1).transform(features)\n",
    "print(result1)\n",
    "\n",
    "df = pd.DataFrame(features, columns=[\"feature1\", \"feature2\"])\n",
    "df.apply(lambda x:x+1).values\n",
    "\n",
    "def add_one(x):\n",
    "    return x + 1\n",
    "\n",
    "def sub_one(x):\n",
    "    return x - 1\n",
    "\n",
    "result2 = ColumnTransformer([(\"add_one\", preprocessing.FunctionTransformer(add_one, validate=True), [\"feature1\"]),\n",
    "                                           (\"sub_one\", preprocessing.FunctionTransformer(sub_one, validate=True), [\"feature2\"])]).fit_transform(df)\n",
    "print(result2)"
   ]
  },
  {
   "cell_type": "code",
   "execution_count": 74,
   "id": "9336d88d",
   "metadata": {},
   "outputs": [
    {
     "name": "stdout",
     "output_type": "stream",
     "text": [
      "[257 103  32] [ 46.         107.33333333 168.66666667 230.        ]\n",
      "    horsepower hp_bin\n",
      "0        130.0   보통출력\n",
      "1        165.0   보통출력\n",
      "2        150.0   보통출력\n",
      "3        150.0   보통출력\n",
      "4        140.0   보통출력\n",
      "5        198.0    고출력\n",
      "6        220.0    고출력\n",
      "7        215.0    고출력\n",
      "8        225.0    고출력\n",
      "9        190.0    고출력\n",
      "10       170.0    고출력\n",
      "11       160.0   보통출력\n",
      "12       150.0   보통출력\n",
      "13       225.0    고출력\n",
      "14        95.0    저출력\n",
      "15        95.0    저출력\n",
      "16        97.0    저출력\n",
      "17        85.0    저출력\n",
      "18        88.0    저출력\n",
      "19        46.0    저출력\n"
     ]
    }
   ],
   "source": [
    "#auto_mpg의 horsepower를 3개의 구간으로 분할\n",
    "auto_mpg['horsepower'].describe()\n",
    "\n",
    "#경계값 찾기\n",
    "count, bin_dividers = np.histogram(auto_mpg['horsepower'], bins=3)\n",
    "print(count, bin_dividers)\n",
    "\n",
    "#각 그룹에 할당할 값의 리스트\n",
    "bin_names = ['저출력', '보통출력', '고출력']\n",
    "auto_mpg['hp_bin'] = pd.cut(x = auto_mpg['horsepower'],\n",
    "                           bins=bin_dividers,\n",
    "                           labels=bin_names,\n",
    "                           include_lowest=True)\n",
    "print(auto_mpg[['horsepower', 'hp_bin']].head(20))"
   ]
  },
  {
   "cell_type": "code",
   "execution_count": 76,
   "id": "9e8110fc",
   "metadata": {},
   "outputs": [
    {
     "name": "stdout",
     "output_type": "stream",
     "text": [
      "[1 1 1 1 1 2 2 2 2 2 2 1 1 2 0 0 0 0 0 0 0 0 0 1 0 2 2 2 2 0 0 0 0 0 0 0 0\n",
      " 1 2 1 1 2 2 2 1 0 0 0 0 0 0 0 0 0 0 0 0 0 0 0 0 1 2 1 1 1 2 1 1 2 0 1 1 1\n",
      " 1 1 0 0 0 0 0 0 0 0 2 1 1 1 1 2 1 1 1 2 2 2 0 0 0 0 0 0 1 1 2 2 0 0 0 0 0\n",
      " 0 0 0 1 2 0 0 0 1 1 1 1 2 0 0 0 0 0 0 0 0 1 0 1 1 1 1 1 0 0 0 0 0 0 0 0 0\n",
      " 0 0 0 0 0 0 2 1 1 1 1 0 1 0 1 1 1 0 0 0 0 0 0 0 0 0 0 0 0 0 1 0 0 0 0 0 0\n",
      " 1 1 1 1 0 0 0 0 0 0 0 0 0 0 1 0 0 0 0 0 0 1 0 1 1 2 1 1 1 0 0 0 0 0 1 1 1\n",
      " 1 1 0 0 0 2 2 2 1 0 0 0 0 0 0 0 0 0 1 1 0 0 0 0 0 1 1 1 0 0 0 0 0 0 0 0 1\n",
      " 1 1 1 1 1 0 0 0 0 0 0 0 0 0 1 1 1 0 0 1 0 0 0 1 1 1 1 1 1 1 1 1 0 0 0 0 0\n",
      " 1 0 0 0 0 0 0 0 1 1 0 0 0 0 0 0 0 0 0 0 0 0 0 0 0 0 0 0 0 0 0 0 0 0 1 0 0\n",
      " 0 0 0 0 1 0 0 0 0 0 0 0 0 0 0 0 0 0 0 0 0 0 0 1 1 1 0 0 0 0 0 0 0 0 0 0 0\n",
      " 0 0 0 0 0 0 0 0 0 0 1 0 0 1 0 0 0 0 0 0 0 0]\n"
     ]
    }
   ],
   "source": [
    "#numpy에서는 그룹의 명칭을 설정하지 않고 0, 1, 2 처럼 인덱스로 구분합니다.\n",
    "result = np.digitize(auto_mpg['horsepower'], \n",
    "                     bins=[107.33333333, 168.66666667, 230.0], right=True)\n",
    "print(result)"
   ]
  },
  {
   "cell_type": "code",
   "execution_count": 84,
   "id": "650939d7",
   "metadata": {},
   "outputs": [
    {
     "name": "stdout",
     "output_type": "stream",
     "text": [
      "[[0]\n",
      " [0]\n",
      " [1]\n",
      " [1]\n",
      " [0]\n",
      " [1]\n",
      " [0]\n",
      " [0]]\n",
      "[[1. 0. 0. 0.]\n",
      " [0. 0. 1. 0.]\n",
      " [0. 0. 0. 1.]\n",
      " [0. 0. 0. 1.]\n",
      " [0. 1. 0. 0.]\n",
      " [0. 0. 1. 0.]\n",
      " [0. 1. 0. 0.]\n",
      " [1. 0. 0. 0.]]\n"
     ]
    }
   ],
   "source": [
    "#sklearn의 binning(구간 분할)\n",
    "age = np.array([[13], [30], [67], [36], [20], [33], [27], [19]])\n",
    "\n",
    "#2개 그룹으로 분할\n",
    "binarizer = preprocessing.Binarizer(threshold=30.0)\n",
    "result = binarizer.transform(age)\n",
    "print(result)\n",
    "\n",
    "#여러 개의 그룹으로 분할\n",
    "#4개의 그룹의 일련번호 형태 일정한 비율로 분할\n",
    "#strategy에 uniform을 설정하면 간격을 일정하게 분할\n",
    "#encode가 ordinal이면 일련번호로 그룹이 생성\n",
    "#onehot을 설정하면 onehot encoding을 한 후 희소 행렬로\n",
    "#onehot-dense를 설정하면 onehot encoding을 한 후 밀집 행렬로\n",
    "\n",
    "kb = preprocessing.KBinsDiscretizer(4, encode='onehot-dense', strategy='quantile')\n",
    "result = kb.fit_transform(age)\n",
    "print(result)"
   ]
  },
  {
   "cell_type": "code",
   "execution_count": 88,
   "id": "77b5e6ea",
   "metadata": {
    "scrolled": true
   },
   "outputs": [
    {
     "name": "stdout",
     "output_type": "stream",
     "text": [
      "   feature_1  feature_2\n",
      "0         13         30\n",
      "1         30         40\n",
      "2         67         44\n",
      "3         26         24\n",
      "4         22         11\n",
      "5         98         28\n",
      "   feature_1  feature_2  group\n",
      "0         13         30      0\n",
      "1         30         40      0\n",
      "2         67         44      2\n",
      "3         26         24      0\n",
      "4         22         11      0\n",
      "5         98         28      1\n"
     ]
    },
    {
     "name": "stderr",
     "output_type": "stream",
     "text": [
      "/Users/m1/anaconda3/lib/python3.11/site-packages/sklearn/cluster/_kmeans.py:870: FutureWarning: The default value of `n_init` will change from 10 to 'auto' in 1.4. Set the value of `n_init` explicitly to suppress the warning\n",
      "  warnings.warn(\n"
     ]
    }
   ],
   "source": [
    "#군집 분석을 이용한 구간 분할\n",
    "from sklearn.cluster import KMeans\n",
    "\n",
    "sample = np.array([[13, 30], [30, 40], [67, 44], [26, 24], [22, 11], [98, 28]])\n",
    "df = pd.DataFrame(sample, columns = ['feature_1', 'feature_2'])\n",
    "print(df)\n",
    "\n",
    "#3개의 군집으로 분할하는 객체 생성\n",
    "cluster = KMeans(3, random_state = 42)\n",
    "#sample 데이터를 이용해서 훈련\n",
    "cluster.fit(sample)\n",
    "#sample 데이터를 가지고 예측\n",
    "df['group'] = cluster.predict(sample)\n",
    "print(df)"
   ]
  },
  {
   "cell_type": "code",
   "execution_count": 95,
   "id": "2aa72193",
   "metadata": {},
   "outputs": [
    {
     "ename": "NameError",
     "evalue": "name 'y' is not defined",
     "output_type": "error",
     "traceback": [
      "\u001b[0;31m---------------------------------------------------------------------------\u001b[0m",
      "\u001b[0;31mNameError\u001b[0m                                 Traceback (most recent call last)",
      "Cell \u001b[0;32mIn[95], line 14\u001b[0m\n\u001b[1;32m     11\u001b[0m     \u001b[38;5;28;01mreturn\u001b[39;00m np\u001b[38;5;241m.\u001b[39mwhere(np\u001b[38;5;241m.\u001b[39mabs(z_scores) \u001b[38;5;241m>\u001b[39m threshold)\n\u001b[1;32m     13\u001b[0m features \u001b[38;5;241m=\u001b[39m np\u001b[38;5;241m.\u001b[39marray([[\u001b[38;5;241m10\u001b[39m, \u001b[38;5;241m10\u001b[39m, \u001b[38;5;241m7\u001b[39m, \u001b[38;5;241m6\u001b[39m, \u001b[38;5;241m3\u001b[39m], [\u001b[38;5;241m200000\u001b[39m, \u001b[38;5;241m3\u001b[39m, \u001b[38;5;241m23\u001b[39m, \u001b[38;5;241m12\u001b[39m, \u001b[38;5;241m11\u001b[39m]])\n\u001b[0;32m---> 14\u001b[0m \u001b[38;5;28mprint\u001b[39m(outliers_z_score(features))\n",
      "Cell \u001b[0;32mIn[95], line 9\u001b[0m, in \u001b[0;36moutliers_z_score\u001b[0;34m(ys)\u001b[0m\n\u001b[1;32m      7\u001b[0m \u001b[38;5;66;03m#평균 대신에 중앙값 사용\u001b[39;00m\n\u001b[1;32m      8\u001b[0m mean_y \u001b[38;5;241m=\u001b[39m np\u001b[38;5;241m.\u001b[39mmean(ys)\n\u001b[0;32m----> 9\u001b[0m stdev_y \u001b[38;5;241m=\u001b[39m np\u001b[38;5;241m.\u001b[39mmedian([np\u001b[38;5;241m.\u001b[39mabs(y\u001b[38;5;241m-\u001b[39mmedian)])\n\u001b[1;32m     10\u001b[0m z_scores \u001b[38;5;241m=\u001b[39m [\u001b[38;5;241m0.6745\u001b[39m \u001b[38;5;241m*\u001b[39m (y\u001b[38;5;241m-\u001b[39mmean_y) \u001b[38;5;241m/\u001b[39m stdev_y \u001b[38;5;28;01mfor\u001b[39;00m y \u001b[38;5;129;01min\u001b[39;00m ys]\n\u001b[1;32m     11\u001b[0m \u001b[38;5;28;01mreturn\u001b[39;00m np\u001b[38;5;241m.\u001b[39mwhere(np\u001b[38;5;241m.\u001b[39mabs(z_scores) \u001b[38;5;241m>\u001b[39m threshold)\n",
      "\u001b[0;31mNameError\u001b[0m: name 'y' is not defined"
     ]
    }
   ],
   "source": [
    "#이상치 감지\n",
    "\n",
    "#z-score를 보정\n",
    "def outliers_z_score(ys):\n",
    "    #표준편차 임계값\n",
    "    threshold = 3.5\n",
    "    #평균 대신에 중앙값 사용\n",
    "    mean_y = np.mean(ys)\n",
    "    stdev_y = np.median([np.abs(y-median)])\n",
    "    z_scores = [0.6745 * (y-mean_y) / stdev_y for y in ys]\n",
    "    return np.where(np.abs(z_scores) > threshold)\n",
    "\n",
    "features = np.array([[10, 10, 7, 6, 3], [200000, 3, 23, 12, 11]])\n",
    "print(outliers_z_score(features))"
   ]
  },
  {
   "cell_type": "code",
   "execution_count": 100,
   "id": "dc948f29",
   "metadata": {},
   "outputs": [
    {
     "ename": "TypeError",
     "evalue": "ufunc 'bitwise_or' not supported for the input types, and the inputs could not be safely coerced to any supported types according to the casting rule ''safe''",
     "output_type": "error",
     "traceback": [
      "\u001b[0;31m---------------------------------------------------------------------------\u001b[0m",
      "\u001b[0;31mTypeError\u001b[0m                                 Traceback (most recent call last)",
      "Cell \u001b[0;32mIn[100], line 12\u001b[0m\n\u001b[1;32m      9\u001b[0m     \u001b[38;5;28;01mreturn\u001b[39;00m np\u001b[38;5;241m.\u001b[39mwhere((ys \u001b[38;5;241m>\u001b[39m upper_bound \u001b[38;5;241m|\u001b[39m (ys \u001b[38;5;241m<\u001b[39m lower_bound)))\n\u001b[1;32m     11\u001b[0m features \u001b[38;5;241m=\u001b[39m np\u001b[38;5;241m.\u001b[39marray([[\u001b[38;5;241m10\u001b[39m, \u001b[38;5;241m10\u001b[39m, \u001b[38;5;241m7\u001b[39m, \u001b[38;5;241m6\u001b[39m, \u001b[38;5;241m3\u001b[39m], [\u001b[38;5;241m200000\u001b[39m, \u001b[38;5;241m3\u001b[39m, \u001b[38;5;241m23\u001b[39m, \u001b[38;5;241m12\u001b[39m, \u001b[38;5;241m11\u001b[39m]])\n\u001b[0;32m---> 12\u001b[0m \u001b[38;5;28mprint\u001b[39m(outliers_iqr(features))\n",
      "Cell \u001b[0;32mIn[100], line 9\u001b[0m, in \u001b[0;36moutliers_iqr\u001b[0;34m(ys)\u001b[0m\n\u001b[1;32m      7\u001b[0m lower_bound \u001b[38;5;241m=\u001b[39m quartile_1 \u001b[38;5;241m-\u001b[39m (iqr \u001b[38;5;241m*\u001b[39m \u001b[38;5;241m1.5\u001b[39m)\n\u001b[1;32m      8\u001b[0m upper_bound \u001b[38;5;241m=\u001b[39m quartile_3 \u001b[38;5;241m+\u001b[39m (iqr \u001b[38;5;241m*\u001b[39m \u001b[38;5;241m1.5\u001b[39m)\n\u001b[0;32m----> 9\u001b[0m \u001b[38;5;28;01mreturn\u001b[39;00m np\u001b[38;5;241m.\u001b[39mwhere((ys \u001b[38;5;241m>\u001b[39m upper_bound \u001b[38;5;241m|\u001b[39m (ys \u001b[38;5;241m<\u001b[39m lower_bound)))\n",
      "\u001b[0;31mTypeError\u001b[0m: ufunc 'bitwise_or' not supported for the input types, and the inputs could not be safely coerced to any supported types according to the casting rule ''safe''"
     ]
    }
   ],
   "source": [
    "#IQR을 이용하는 방법\n",
    "def outliers_iqr(ys):\n",
    "    #1사분위수와 3사분위수 구하기\n",
    "    quartile_1, quartile_3 = np.percentile(ys, [25, 75])\n",
    "    iqr = quartile_3 - quartile_1\n",
    "    #일반적인 데이터의 하한과 상한을 구하기\n",
    "    lower_bound = quartile_1 - (iqr * 1.5)\n",
    "    upper_bound = quartile_3 + (iqr * 1.5)\n",
    "    return np.where((ys > upper_bound | (ys < lower_bound)))\n",
    "\n",
    "features = np.array([[10, 10, 7, 6, 3], [200000, 3, 23, 12, 11]])\n",
    "print(outliers_iqr(features))"
   ]
  },
  {
   "cell_type": "code",
   "execution_count": 106,
   "id": "635b3e59",
   "metadata": {},
   "outputs": [
    {
     "name": "stdout",
     "output_type": "stream",
     "text": [
      "[[-2.743351    8.78014917]\n",
      " [-3.4172217   7.60198243]\n",
      " [-3.52202874  9.32853346]\n",
      " [-2.26723535  7.10100588]\n",
      " [-2.97261532  8.54855637]\n",
      " [-1.04354885  8.78850983]\n",
      " [-1.86150908 10.53731598]\n",
      " [-2.97867201  9.55684617]\n",
      " [-4.23411546  8.4519986 ]\n",
      " [-0.92998481  9.78172086]]\n"
     ]
    },
    {
     "data": {
      "text/plain": [
       "array([-1,  1,  1,  1,  1,  1,  1,  1,  1,  1])"
      ]
     },
     "execution_count": 106,
     "metadata": {},
     "output_type": "execute_result"
    }
   ],
   "source": [
    "#일정 비율의 데이터를 이상치로 간주하기\n",
    "from sklearn.covariance import EllipticEnvelope\n",
    "from sklearn.datasets import make_blobs\n",
    "\n",
    "#10행 2열의 데이터를 중앙점을 1.0 으로 해서 랜덤하게 생성\n",
    "features, _ = make_blobs(n_samples = 10, n_features = 2, centers = 1, random_state = 42)\n",
    "print(features)\n",
    "\n",
    "#첫번째 행의 데이터를 이상치로 수정\n",
    "features[0,0] = 10000\n",
    "features[0,1] = 10000\n",
    "\n",
    "#이상치 감지 객체를 생성 - 이상치 비율을 설정\n",
    "outlier_detector = EllipticEnvelope(contamination=0.1)\n",
    "outlier_detector.fit(features)\n",
    "\n",
    "#이상치로 판정되면 -1을 리턴하고 그렇지 않으면 1을 리턴\n",
    "outlier_detector.predict(features)"
   ]
  },
  {
   "cell_type": "code",
   "execution_count": 113,
   "id": "bda98484",
   "metadata": {},
   "outputs": [
    {
     "name": "stdout",
     "output_type": "stream",
     "text": [
      "     Price  Rooms   Feet  Outlier\n",
      "0   500000      2   1500        0\n",
      "1   390000      3   2000        0\n",
      "2   290000      5   1300        0\n",
      "3  5000000    116  20000        1\n",
      "     Price  Rooms   Feet  Outlier  Log_Feet\n",
      "0   500000      2   1500        0  7.313220\n",
      "1   390000      3   2000        0  7.600902\n",
      "2   290000      5   1300        0  7.170120\n",
      "3  5000000    116  20000        1  9.903488\n",
      "     Price  Rooms   Feet  Outlier  Log_Feet  Scale_rooms\n",
      "0   500000      2   1500        0  7.313220    -0.066667\n",
      "1   390000      3   2000        0  7.600902    -0.033333\n",
      "2   290000      5   1300        0  7.170120     0.033333\n",
      "3  5000000    116  20000        1  9.903488     3.733333\n"
     ]
    }
   ],
   "source": [
    "#이상치 처리\n",
    "houses = pd.DataFrame()\n",
    "houses['Price'] = [500000, 390000, 290000, 5000000]\n",
    "houses['Rooms'] = [2, 3, 5, 116]\n",
    "houses['Feet'] = [1500, 2000, 1300, 20000]\n",
    "\n",
    "#Rooms 값이 20보다 크면 이상치로 간주하고 특성을 추가\n",
    "houses['Outlier'] = np.where(houses['Rooms'] > 20, 1, 0)\n",
    "print(houses)\n",
    "\n",
    "#Outlier의 영향을 최소화 - 특성 변환(로그 변환)\n",
    "houses['Log_Feet'] = [np.log(x) for x in houses['Feet']]\n",
    "print(houses)\n",
    "\n",
    "#Outlier의 영향을 최소화 - 특성 변환(Scaling)\n",
    "imsi = pd.DataFrame(houses['Rooms'])\n",
    "scaler = preprocessing.RobustScaler()\n",
    "scaler.fit(imsi)\n",
    "houses['Scale_rooms'] = scaler.transform(imsi)\n",
    "print(houses)"
   ]
  },
  {
   "cell_type": "code",
   "execution_count": 121,
   "id": "5d8da786",
   "metadata": {},
   "outputs": [
    {
     "name": "stdout",
     "output_type": "stream",
     "text": [
      "177\n"
     ]
    }
   ],
   "source": [
    "#결측치 확인\n",
    "import seaborn as sns\n",
    "titanic = sns.load_dataset('titanic')\n",
    "#titanic.info()\n",
    "\n",
    "#None의 개수도 출력\n",
    "#print(titanic['age'].value_counts(dropna=False))\n",
    "\n",
    "print(titanic['age'].isnull().sum(axis=0))"
   ]
  },
  {
   "cell_type": "code",
   "execution_count": 127,
   "id": "bc33d7de",
   "metadata": {},
   "outputs": [
    {
     "name": "stdout",
     "output_type": "stream",
     "text": [
      "survived         0\n",
      "pclass           0\n",
      "sex              0\n",
      "age            177\n",
      "sibsp            0\n",
      "parch            0\n",
      "fare             0\n",
      "embarked         2\n",
      "class            0\n",
      "who              0\n",
      "adult_male       0\n",
      "deck           688\n",
      "embark_town      2\n",
      "alive            0\n",
      "alone            0\n",
      "dtype: int64\n",
      "<class 'pandas.core.frame.DataFrame'>\n",
      "Int64Index: 714 entries, 0 to 890\n",
      "Data columns (total 15 columns):\n",
      " #   Column       Non-Null Count  Dtype   \n",
      "---  ------       --------------  -----   \n",
      " 0   survived     714 non-null    int64   \n",
      " 1   pclass       714 non-null    int64   \n",
      " 2   sex          714 non-null    object  \n",
      " 3   age          714 non-null    float64 \n",
      " 4   sibsp        714 non-null    int64   \n",
      " 5   parch        714 non-null    int64   \n",
      " 6   fare         714 non-null    float64 \n",
      " 7   embarked     712 non-null    object  \n",
      " 8   class        714 non-null    category\n",
      " 9   who          714 non-null    object  \n",
      " 10  adult_male   714 non-null    bool    \n",
      " 11  deck         184 non-null    category\n",
      " 12  embark_town  712 non-null    object  \n",
      " 13  alive        714 non-null    object  \n",
      " 14  alone        714 non-null    bool    \n",
      "dtypes: bool(2), category(2), float64(2), int64(4), object(5)\n",
      "memory usage: 70.2+ KB\n"
     ]
    }
   ],
   "source": [
    "#결측치 삭제\n",
    "\n",
    "#각 컬럼의 None의 개수 파악\n",
    "print(titanic.isnull().sum(axis=0))\n",
    "\n",
    "#결측치의 개수가 200개 이상인 컬럼을 제거 - 200개 미만인 컬럼만 필터링\n",
    "#result = titanic[['survived', 'pclass', 'sex', 'age', 'sibsp']]\n",
    "\n",
    "#결측치인 행만 제거 - age 행이 결측치인 행을 제거\n",
    "result_age = titanic.dropna(subset=['age'], how='any', axis=0)\n",
    "result_age.info()"
   ]
  },
  {
   "cell_type": "code",
   "execution_count": 137,
   "id": "d59a8469",
   "metadata": {
    "scrolled": true
   },
   "outputs": [
    {
     "name": "stdout",
     "output_type": "stream",
     "text": [
      "825     Queenstown\n",
      "826    Southampton\n",
      "827      Cherbourg\n",
      "828     Queenstown\n",
      "829            NaN\n",
      "830      Cherbourg\n",
      "Name: embark_town, dtype: object\n",
      "825     Queenstown\n",
      "826    Southampton\n",
      "827      Cherbourg\n",
      "828     Queenstown\n",
      "829     Queenstown\n",
      "830      Cherbourg\n",
      "Name: embark_town, dtype: object\n",
      "Southampton\n",
      "825     Queenstown\n",
      "826    Southampton\n",
      "827      Cherbourg\n",
      "828     Queenstown\n",
      "829     Queenstown\n",
      "830      Cherbourg\n",
      "Name: embark_town, dtype: object\n"
     ]
    }
   ],
   "source": [
    "import seaborn as sns\n",
    "titanic = sns.load_dataset('titanic')\n",
    "\n",
    "#None을 포함하고 있는 값을 출력\n",
    "print(titanic['embark_town'][825:831])\n",
    "\n",
    "#embark_town 컬럼의 특성이 계절성을 갖는다면 이 경우는 앞의 값으로 채우는 것도\n",
    "#나쁘지 않은 방법입니다.\n",
    "titanic['embark_town'].fillna(method='ffill', inplace=True)\n",
    "print(titanic['embark_town'][825:831])\n",
    "\n",
    "#결측치가 몇 개 되지 않을 때는 대표값으로 대체\n",
    "#대표값으로 사용될 수 있는 데이터는 평균, 중간값, 최빈값 등\n",
    "#대표값으로 변환하는 경우 많은 양의 데이터를 변경하면 분석할 때 결과가 왜곡될 수 있음\n",
    "mode = titanic['embark_town'].value_counts()\n",
    "\n",
    "#가장 많이 출현한 데이터\n",
    "print(mode.idxmax())\n",
    "titanic['embark_town'].fillna(mode.idxmax(), inplace=True)\n",
    "print(titanic['embark_town'][825:831])"
   ]
  },
  {
   "cell_type": "code",
   "execution_count": 141,
   "id": "d66e6cb9",
   "metadata": {},
   "outputs": [
    {
     "name": "stdout",
     "output_type": "stream",
     "text": [
      "[[100.]\n",
      " [200.]\n",
      " [300.]\n",
      " [400.]\n",
      " [500.]\n",
      " [300.]]\n"
     ]
    }
   ],
   "source": [
    "#sklearn의 Simpleimputer 이용\n",
    "#객체를 만들 때 strategy 옵션에 mean, median, most_frequent, constant를 설정\n",
    "#constant를 설정하면 fill_value 옵션에 채울 값을 추가해주어야 합니다.\n",
    "\n",
    "from sklearn.impute import SimpleImputer\n",
    "\n",
    "features = np.array([[100], [200], [300], [400], [500], [np.nan]])\n",
    "\n",
    "simple_imputer = SimpleImputer(strategy='median')\n",
    "print(simple_imputer.fit_transform(features))"
   ]
  },
  {
   "cell_type": "code",
   "execution_count": 144,
   "id": "88758739",
   "metadata": {},
   "outputs": [
    {
     "name": "stdout",
     "output_type": "stream",
     "text": [
      "Collecting fancyimpute\n",
      "  Using cached fancyimpute-0.7.0.tar.gz (25 kB)\n",
      "  Preparing metadata (setup.py) ... \u001b[?25ldone\n",
      "\u001b[?25hCollecting knnimpute>=0.1.0 (from fancyimpute)\n",
      "  Using cached knnimpute-0.1.0.tar.gz (8.3 kB)\n",
      "  Preparing metadata (setup.py) ... \u001b[?25ldone\n",
      "\u001b[?25hRequirement already satisfied: scikit-learn>=0.24.2 in /Users/m1/anaconda3/lib/python3.11/site-packages (from fancyimpute) (1.2.2)\n",
      "Collecting cvxpy (from fancyimpute)\n",
      "  Using cached cvxpy-1.3.2-cp311-cp311-macosx_10_9_universal2.whl (1.2 MB)\n",
      "Collecting cvxopt (from fancyimpute)\n",
      "  Using cached cvxopt-1.3.2-cp311-cp311-macosx_11_0_arm64.whl (11.1 MB)\n",
      "Requirement already satisfied: pytest in /Users/m1/anaconda3/lib/python3.11/site-packages (from fancyimpute) (7.3.1)\n",
      "Collecting nose (from fancyimpute)\n",
      "  Using cached nose-1.3.7-py3-none-any.whl (154 kB)\n",
      "Requirement already satisfied: six in /Users/m1/anaconda3/lib/python3.11/site-packages (from knnimpute>=0.1.0->fancyimpute) (1.16.0)\n",
      "Requirement already satisfied: numpy>=1.10 in /Users/m1/anaconda3/lib/python3.11/site-packages (from knnimpute>=0.1.0->fancyimpute) (1.24.3)\n",
      "Requirement already satisfied: scipy>=1.3.2 in /Users/m1/anaconda3/lib/python3.11/site-packages (from scikit-learn>=0.24.2->fancyimpute) (1.10.1)\n",
      "Requirement already satisfied: joblib>=1.1.1 in /Users/m1/anaconda3/lib/python3.11/site-packages (from scikit-learn>=0.24.2->fancyimpute) (1.2.0)\n",
      "Requirement already satisfied: threadpoolctl>=2.0.0 in /Users/m1/anaconda3/lib/python3.11/site-packages (from scikit-learn>=0.24.2->fancyimpute) (2.2.0)\n",
      "Collecting osqp>=0.4.1 (from cvxpy->fancyimpute)\n",
      "  Using cached osqp-0.6.3.tar.gz (228 kB)\n",
      "  Installing build dependencies ... \u001b[?25lerror\n",
      "  \u001b[1;31merror\u001b[0m: \u001b[1msubprocess-exited-with-error\u001b[0m\n",
      "  \n",
      "  \u001b[31m×\u001b[0m \u001b[32mpip subprocess to install build dependencies\u001b[0m did not run successfully.\n",
      "  \u001b[31m│\u001b[0m exit code: \u001b[1;36m1\u001b[0m\n",
      "  \u001b[31m╰─>\u001b[0m \u001b[31m[112 lines of output]\u001b[0m\n",
      "  \u001b[31m   \u001b[0m Collecting oldest-supported-numpy\n",
      "  \u001b[31m   \u001b[0m   Using cached oldest_supported_numpy-2023.8.3-py3-none-any.whl (4.8 kB)\n",
      "  \u001b[31m   \u001b[0m Collecting setuptools>=40.8.0\n",
      "  \u001b[31m   \u001b[0m   Using cached setuptools-68.1.0-py3-none-any.whl (805 kB)\n",
      "  \u001b[31m   \u001b[0m Collecting wheel\n",
      "  \u001b[31m   \u001b[0m   Using cached wheel-0.41.1-py3-none-any.whl (64 kB)\n",
      "  \u001b[31m   \u001b[0m Collecting setuptools_scm>=6.2\n",
      "  \u001b[31m   \u001b[0m   Using cached setuptools_scm-7.1.0-py3-none-any.whl (43 kB)\n",
      "  \u001b[31m   \u001b[0m Collecting qdldl\n",
      "  \u001b[31m   \u001b[0m   Using cached qdldl-0.1.7.post0.tar.gz (70 kB)\n",
      "  \u001b[31m   \u001b[0m   Installing build dependencies: started\n",
      "  \u001b[31m   \u001b[0m   Installing build dependencies: finished with status 'done'\n",
      "  \u001b[31m   \u001b[0m   Getting requirements to build wheel: started\n",
      "  \u001b[31m   \u001b[0m   Getting requirements to build wheel: finished with status 'done'\n",
      "  \u001b[31m   \u001b[0m   Installing backend dependencies: started\n",
      "  \u001b[31m   \u001b[0m   Installing backend dependencies: finished with status 'done'\n",
      "  \u001b[31m   \u001b[0m   Preparing metadata (pyproject.toml): started\n",
      "  \u001b[31m   \u001b[0m   Preparing metadata (pyproject.toml): finished with status 'done'\n",
      "  \u001b[31m   \u001b[0m Collecting numpy==1.23.2 (from oldest-supported-numpy)\n",
      "  \u001b[31m   \u001b[0m   Using cached numpy-1.23.2-cp311-cp311-macosx_11_0_arm64.whl (13.3 MB)\n",
      "  \u001b[31m   \u001b[0m Collecting packaging>=20.0 (from setuptools_scm>=6.2)\n",
      "  \u001b[31m   \u001b[0m   Using cached packaging-23.1-py3-none-any.whl (48 kB)\n",
      "  \u001b[31m   \u001b[0m Collecting typing-extensions (from setuptools_scm>=6.2)\n",
      "  \u001b[31m   \u001b[0m   Using cached typing_extensions-4.7.1-py3-none-any.whl (33 kB)\n",
      "  \u001b[31m   \u001b[0m Collecting scipy>=0.13.2 (from qdldl)\n",
      "  \u001b[31m   \u001b[0m   Using cached scipy-1.11.1-cp311-cp311-macosx_12_0_arm64.whl (29.5 MB)\n",
      "  \u001b[31m   \u001b[0m Building wheels for collected packages: qdldl\n",
      "  \u001b[31m   \u001b[0m   Building wheel for qdldl (pyproject.toml): started\n",
      "  \u001b[31m   \u001b[0m   Building wheel for qdldl (pyproject.toml): finished with status 'error'\n",
      "  \u001b[31m   \u001b[0m   error: subprocess-exited-with-error\n",
      "  \u001b[31m   \u001b[0m \n",
      "  \u001b[31m   \u001b[0m   × Building wheel for qdldl (pyproject.toml) did not run successfully.\n",
      "  \u001b[31m   \u001b[0m   │ exit code: 1\n",
      "  \u001b[31m   \u001b[0m   ╰─> [72 lines of output]\n",
      "  \u001b[31m   \u001b[0m       running bdist_wheel\n",
      "  \u001b[31m   \u001b[0m       running build\n",
      "  \u001b[31m   \u001b[0m       running build_ext\n",
      "  \u001b[31m   \u001b[0m       Traceback (most recent call last):\n",
      "  \u001b[31m   \u001b[0m         File \"<string>\", line 81, in build_extensions\n",
      "  \u001b[31m   \u001b[0m         File \"/Users/m1/anaconda3/lib/python3.11/subprocess.py\", line 466, in check_output\n",
      "  \u001b[31m   \u001b[0m           return run(*popenargs, stdout=PIPE, timeout=timeout, check=True,\n",
      "  \u001b[31m   \u001b[0m                  ^^^^^^^^^^^^^^^^^^^^^^^^^^^^^^^^^^^^^^^^^^^^^^^^^^^^^^^^^\n",
      "  \u001b[31m   \u001b[0m         File \"/Users/m1/anaconda3/lib/python3.11/subprocess.py\", line 548, in run\n",
      "  \u001b[31m   \u001b[0m           with Popen(*popenargs, **kwargs) as process:\n",
      "  \u001b[31m   \u001b[0m                ^^^^^^^^^^^^^^^^^^^^^^^^^^^\n",
      "  \u001b[31m   \u001b[0m         File \"/Users/m1/anaconda3/lib/python3.11/subprocess.py\", line 1024, in __init__\n",
      "  \u001b[31m   \u001b[0m           self._execute_child(args, executable, preexec_fn, close_fds,\n",
      "  \u001b[31m   \u001b[0m         File \"/Users/m1/anaconda3/lib/python3.11/subprocess.py\", line 1917, in _execute_child\n",
      "  \u001b[31m   \u001b[0m           raise child_exception_type(errno_num, err_msg, err_filename)\n",
      "  \u001b[31m   \u001b[0m       FileNotFoundError: [Errno 2] No such file or directory: 'cmake'\n",
      "  \u001b[31m   \u001b[0m \n",
      "  \u001b[31m   \u001b[0m       During handling of the above exception, another exception occurred:\n",
      "  \u001b[31m   \u001b[0m \n",
      "  \u001b[31m   \u001b[0m       Traceback (most recent call last):\n",
      "  \u001b[31m   \u001b[0m         File \"/Users/m1/anaconda3/lib/python3.11/site-packages/pip/_vendor/pyproject_hooks/_in_process/_in_process.py\", line 353, in <module>\n",
      "  \u001b[31m   \u001b[0m           main()\n",
      "  \u001b[31m   \u001b[0m         File \"/Users/m1/anaconda3/lib/python3.11/site-packages/pip/_vendor/pyproject_hooks/_in_process/_in_process.py\", line 335, in main\n",
      "  \u001b[31m   \u001b[0m           json_out['return_val'] = hook(**hook_input['kwargs'])\n",
      "  \u001b[31m   \u001b[0m                                    ^^^^^^^^^^^^^^^^^^^^^^^^^^^^\n",
      "  \u001b[31m   \u001b[0m         File \"/Users/m1/anaconda3/lib/python3.11/site-packages/pip/_vendor/pyproject_hooks/_in_process/_in_process.py\", line 251, in build_wheel\n",
      "  \u001b[31m   \u001b[0m           return _build_backend().build_wheel(wheel_directory, config_settings,\n",
      "  \u001b[31m   \u001b[0m                  ^^^^^^^^^^^^^^^^^^^^^^^^^^^^^^^^^^^^^^^^^^^^^^^^^^^^^^^^^^^^^^\n",
      "  \u001b[31m   \u001b[0m         File \"/private/var/folders/bq/22f7j5dn6x5dcpn8t77q8t4h0000gn/T/pip-build-env-z8c0xcx4/overlay/lib/python3.11/site-packages/setuptools/build_meta.py\", line 434, in build_wheel\n",
      "  \u001b[31m   \u001b[0m           return self._build_with_temp_dir(\n",
      "  \u001b[31m   \u001b[0m                  ^^^^^^^^^^^^^^^^^^^^^^^^^^\n",
      "  \u001b[31m   \u001b[0m         File \"/private/var/folders/bq/22f7j5dn6x5dcpn8t77q8t4h0000gn/T/pip-build-env-z8c0xcx4/overlay/lib/python3.11/site-packages/setuptools/build_meta.py\", line 419, in _build_with_temp_dir\n",
      "  \u001b[31m   \u001b[0m           self.run_setup()\n",
      "  \u001b[31m   \u001b[0m         File \"/private/var/folders/bq/22f7j5dn6x5dcpn8t77q8t4h0000gn/T/pip-build-env-z8c0xcx4/overlay/lib/python3.11/site-packages/setuptools/build_meta.py\", line 341, in run_setup\n",
      "  \u001b[31m   \u001b[0m           exec(code, locals())\n",
      "  \u001b[31m   \u001b[0m         File \"<string>\", line 113, in <module>\n",
      "  \u001b[31m   \u001b[0m         File \"/private/var/folders/bq/22f7j5dn6x5dcpn8t77q8t4h0000gn/T/pip-build-env-z8c0xcx4/overlay/lib/python3.11/site-packages/setuptools/__init__.py\", line 107, in setup\n",
      "  \u001b[31m   \u001b[0m           return distutils.core.setup(**attrs)\n",
      "  \u001b[31m   \u001b[0m                  ^^^^^^^^^^^^^^^^^^^^^^^^^^^^^\n",
      "  \u001b[31m   \u001b[0m         File \"/private/var/folders/bq/22f7j5dn6x5dcpn8t77q8t4h0000gn/T/pip-build-env-z8c0xcx4/overlay/lib/python3.11/site-packages/setuptools/_distutils/core.py\", line 185, in setup\n",
      "  \u001b[31m   \u001b[0m           return run_commands(dist)\n",
      "  \u001b[31m   \u001b[0m                  ^^^^^^^^^^^^^^^^^^\n",
      "  \u001b[31m   \u001b[0m         File \"/private/var/folders/bq/22f7j5dn6x5dcpn8t77q8t4h0000gn/T/pip-build-env-z8c0xcx4/overlay/lib/python3.11/site-packages/setuptools/_distutils/core.py\", line 201, in run_commands\n",
      "  \u001b[31m   \u001b[0m           dist.run_commands()\n",
      "  \u001b[31m   \u001b[0m         File \"/private/var/folders/bq/22f7j5dn6x5dcpn8t77q8t4h0000gn/T/pip-build-env-z8c0xcx4/overlay/lib/python3.11/site-packages/setuptools/_distutils/dist.py\", line 969, in run_commands\n",
      "  \u001b[31m   \u001b[0m           self.run_command(cmd)\n",
      "  \u001b[31m   \u001b[0m         File \"/private/var/folders/bq/22f7j5dn6x5dcpn8t77q8t4h0000gn/T/pip-build-env-z8c0xcx4/overlay/lib/python3.11/site-packages/setuptools/dist.py\", line 1233, in run_command\n",
      "  \u001b[31m   \u001b[0m           super().run_command(command)\n",
      "  \u001b[31m   \u001b[0m         File \"/private/var/folders/bq/22f7j5dn6x5dcpn8t77q8t4h0000gn/T/pip-build-env-z8c0xcx4/overlay/lib/python3.11/site-packages/setuptools/_distutils/dist.py\", line 988, in run_command\n",
      "  \u001b[31m   \u001b[0m           cmd_obj.run()\n",
      "  \u001b[31m   \u001b[0m         File \"/private/var/folders/bq/22f7j5dn6x5dcpn8t77q8t4h0000gn/T/pip-build-env-z8c0xcx4/normal/lib/python3.11/site-packages/wheel/bdist_wheel.py\", line 349, in run\n",
      "  \u001b[31m   \u001b[0m           self.run_command(\"build\")\n",
      "  \u001b[31m   \u001b[0m         File \"/private/var/folders/bq/22f7j5dn6x5dcpn8t77q8t4h0000gn/T/pip-build-env-z8c0xcx4/overlay/lib/python3.11/site-packages/setuptools/_distutils/cmd.py\", line 318, in run_command\n",
      "  \u001b[31m   \u001b[0m           self.distribution.run_command(command)\n",
      "  \u001b[31m   \u001b[0m         File \"/private/var/folders/bq/22f7j5dn6x5dcpn8t77q8t4h0000gn/T/pip-build-env-z8c0xcx4/overlay/lib/python3.11/site-packages/setuptools/dist.py\", line 1233, in run_command\n",
      "  \u001b[31m   \u001b[0m           super().run_command(command)\n",
      "  \u001b[31m   \u001b[0m         File \"/private/var/folders/bq/22f7j5dn6x5dcpn8t77q8t4h0000gn/T/pip-build-env-z8c0xcx4/overlay/lib/python3.11/site-packages/setuptools/_distutils/dist.py\", line 988, in run_command\n",
      "  \u001b[31m   \u001b[0m           cmd_obj.run()\n",
      "  \u001b[31m   \u001b[0m         File \"/private/var/folders/bq/22f7j5dn6x5dcpn8t77q8t4h0000gn/T/pip-build-env-z8c0xcx4/overlay/lib/python3.11/site-packages/setuptools/_distutils/command/build.py\", line 131, in run\n",
      "  \u001b[31m   \u001b[0m           self.run_command(cmd_name)\n",
      "  \u001b[31m   \u001b[0m         File \"/private/var/folders/bq/22f7j5dn6x5dcpn8t77q8t4h0000gn/T/pip-build-env-z8c0xcx4/overlay/lib/python3.11/site-packages/setuptools/_distutils/cmd.py\", line 318, in run_command\n",
      "  \u001b[31m   \u001b[0m           self.distribution.run_command(command)\n",
      "  \u001b[31m   \u001b[0m         File \"/private/var/folders/bq/22f7j5dn6x5dcpn8t77q8t4h0000gn/T/pip-build-env-z8c0xcx4/overlay/lib/python3.11/site-packages/setuptools/dist.py\", line 1233, in run_command\n",
      "  \u001b[31m   \u001b[0m           super().run_command(command)\n",
      "  \u001b[31m   \u001b[0m         File \"/private/var/folders/bq/22f7j5dn6x5dcpn8t77q8t4h0000gn/T/pip-build-env-z8c0xcx4/overlay/lib/python3.11/site-packages/setuptools/_distutils/dist.py\", line 988, in run_command\n",
      "  \u001b[31m   \u001b[0m           cmd_obj.run()\n",
      "  \u001b[31m   \u001b[0m         File \"/private/var/folders/bq/22f7j5dn6x5dcpn8t77q8t4h0000gn/T/pip-build-env-z8c0xcx4/overlay/lib/python3.11/site-packages/setuptools/command/build_ext.py\", line 88, in run\n",
      "  \u001b[31m   \u001b[0m           _build_ext.run(self)\n",
      "  \u001b[31m   \u001b[0m         File \"/private/var/folders/bq/22f7j5dn6x5dcpn8t77q8t4h0000gn/T/pip-build-env-z8c0xcx4/overlay/lib/python3.11/site-packages/setuptools/_distutils/command/build_ext.py\", line 345, in run\n",
      "  \u001b[31m   \u001b[0m           self.build_extensions()\n",
      "  \u001b[31m   \u001b[0m         File \"<string>\", line 83, in build_extensions\n",
      "  \u001b[31m   \u001b[0m       RuntimeError: CMake must be installed to build qdldl\n",
      "  \u001b[31m   \u001b[0m       [end of output]\n",
      "  \u001b[31m   \u001b[0m \n",
      "  \u001b[31m   \u001b[0m   note: This error originates from a subprocess, and is likely not a problem with pip.\n",
      "  \u001b[31m   \u001b[0m   ERROR: Failed building wheel for qdldl\n",
      "  \u001b[31m   \u001b[0m Failed to build qdldl\n",
      "  \u001b[31m   \u001b[0m ERROR: Could not build wheels for qdldl, which is required to install pyproject.toml-based projects\n",
      "  \u001b[31m   \u001b[0m \u001b[31m[end of output]\u001b[0m\n",
      "  \n",
      "  \u001b[1;35mnote\u001b[0m: This error originates from a subprocess, and is likely not a problem with pip.\n",
      "\u001b[1;31merror\u001b[0m: \u001b[1msubprocess-exited-with-error\u001b[0m\n",
      "\n",
      "\u001b[31m×\u001b[0m \u001b[32mpip subprocess to install build dependencies\u001b[0m did not run successfully.\n",
      "\u001b[31m│\u001b[0m exit code: \u001b[1;36m1\u001b[0m\n",
      "\u001b[31m╰─>\u001b[0m See above for output.\n",
      "\n",
      "\u001b[1;35mnote\u001b[0m: This error originates from a subprocess, and is likely not a problem with pip.\n"
     ]
    },
    {
     "name": "stdout",
     "output_type": "stream",
     "text": [
      "\u001b[?25h"
     ]
    }
   ],
   "source": [
    "!pip install fancyimpute"
   ]
  },
  {
   "cell_type": "code",
   "execution_count": 146,
   "id": "ff072e2d",
   "metadata": {},
   "outputs": [
    {
     "ename": "ModuleNotFoundError",
     "evalue": "No module named 'fancyimpute'",
     "output_type": "error",
     "traceback": [
      "\u001b[0;31m---------------------------------------------------------------------------\u001b[0m",
      "\u001b[0;31mModuleNotFoundError\u001b[0m                       Traceback (most recent call last)",
      "Cell \u001b[0;32mIn[146], line 1\u001b[0m\n\u001b[0;32m----> 1\u001b[0m \u001b[38;5;28;01mfrom\u001b[39;00m \u001b[38;5;21;01mfancyimpute\u001b[39;00m \u001b[38;5;28;01mimport\u001b[39;00m KNN\n\u001b[1;32m      2\u001b[0m features \u001b[38;5;241m=\u001b[39m np\u001b[38;5;241m.\u001b[39marray([[\u001b[38;5;241m100\u001b[39m, \u001b[38;5;241m200\u001b[39m], [\u001b[38;5;241m200\u001b[39m, \u001b[38;5;241m400\u001b[39m], [\u001b[38;5;241m300\u001b[39m, \u001b[38;5;241m600\u001b[39m], [\u001b[38;5;241m400\u001b[39m, \u001b[38;5;241m800\u001b[39m], [\u001b[38;5;241m200\u001b[39m, np\u001b[38;5;241m.\u001b[39mnan]])\n\u001b[1;32m      3\u001b[0m \u001b[38;5;28mprint\u001b[39m(KNN(k\u001b[38;5;241m=\u001b[39m\u001b[38;5;241m5\u001b[39m, verbose\u001b[38;5;241m=\u001b[39m\u001b[38;5;241m0\u001b[39m)\u001b[38;5;241m.\u001b[39mfit_transform(features))\n",
      "\u001b[0;31mModuleNotFoundError\u001b[0m: No module named 'fancyimpute'"
     ]
    }
   ],
   "source": [
    "from fancyimpute import KNN\n",
    "features = np.array([[100, 200], [200, 400], [300, 600], [400, 800], [200, np.nan]])\n",
    "print(KNN(k=5, verbose=0).fit_transform(features))"
   ]
  }
 ],
 "metadata": {
  "kernelspec": {
   "display_name": "Python 3 (ipykernel)",
   "language": "python",
   "name": "python3"
  },
  "language_info": {
   "codemirror_mode": {
    "name": "ipython",
    "version": 3
   },
   "file_extension": ".py",
   "mimetype": "text/x-python",
   "name": "python",
   "nbconvert_exporter": "python",
   "pygments_lexer": "ipython3",
   "version": "3.11.3"
  }
 },
 "nbformat": 4,
 "nbformat_minor": 5
}
